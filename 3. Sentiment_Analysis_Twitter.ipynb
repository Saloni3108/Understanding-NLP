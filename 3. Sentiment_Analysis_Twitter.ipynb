{
  "nbformat": 4,
  "nbformat_minor": 0,
  "metadata": {
    "colab": {
      "name": "Sentiment_Analysis_Twitter.ipynb",
      "provenance": []
    },
    "kernelspec": {
      "name": "python3",
      "display_name": "Python 3"
    }
  },
  "cells": [
    {
      "cell_type": "markdown",
      "metadata": {
        "id": "Q9Ff3Oo1win0"
      },
      "source": [
        "# Sentiment analysis for twitter data \n",
        "\n",
        "---\n",
        "\n",
        "## NLP packages used:\n",
        "\n",
        "> NLTK\n",
        "\n",
        "> SpaCy\n",
        "\n",
        "> TextBlob"
      ]
    },
    {
      "cell_type": "markdown",
      "metadata": {
        "id": "5MIbd2vhxhwN"
      },
      "source": [
        "## Twitter credentials"
      ]
    },
    {
      "cell_type": "code",
      "metadata": {
        "id": "WSQu0OCquZLw",
        "colab": {
          "base_uri": "https://localhost:8080/"
        },
        "outputId": "e8f665f0-65c7-48a8-cef8-07823407b579"
      },
      "source": [
        "from google.colab import drive\n",
        "drive.mount('/content/drive')"
      ],
      "execution_count": 33,
      "outputs": [
        {
          "output_type": "stream",
          "name": "stdout",
          "text": [
            "Drive already mounted at /content/drive; to attempt to forcibly remount, call drive.mount(\"/content/drive\", force_remount=True).\n"
          ]
        }
      ]
    },
    {
      "cell_type": "code",
      "metadata": {
        "id": "PcAH2m9ZTqMX",
        "colab": {
          "base_uri": "https://localhost:8080/"
        },
        "outputId": "8d5c4723-275a-4820-8393-14c49c387e8e"
      },
      "source": [
        "import os\n",
        "import tweepy as tw\n",
        "import configparser\n",
        "config = configparser.RawConfigParser()\n",
        "config.read('/content/drive/My Drive/Colab Notebooks/twitter.properties.txt')\n",
        "print(config.sections());"
      ],
      "execution_count": 34,
      "outputs": [
        {
          "output_type": "stream",
          "name": "stdout",
          "text": [
            "['twitter']\n"
          ]
        }
      ]
    },
    {
      "cell_type": "code",
      "metadata": {
        "id": "L_t7DWA9TtV1"
      },
      "source": [
        "accesstoken = config.get('twitter','accesstoken')\n",
        "accesstokensecret = config.get('twitter','accesstokensecret')\n",
        "apikey = config.get('twitter','apikey')\n",
        "apisecretkey = config.get('twitter','apisecretkey')"
      ],
      "execution_count": 35,
      "outputs": []
    },
    {
      "cell_type": "code",
      "metadata": {
        "id": "0EJEjTVtojyh"
      },
      "source": [
        "#pass twitter credentials to tweepy\n",
        "auth = tw.OAuthHandler(apikey, apisecretkey)\n",
        "auth.set_access_token(accesstoken, accesstokensecret)\n",
        "api = tw.API(auth,wait_on_rate_limit=True)"
      ],
      "execution_count": 36,
      "outputs": []
    },
    {
      "cell_type": "markdown",
      "metadata": {
        "id": "TWf9y9H9xqyI"
      },
      "source": [
        "## USe #.... from twitter"
      ]
    },
    {
      "cell_type": "code",
      "metadata": {
        "id": "JscMm6qEovxM"
      },
      "source": [
        "search_words ='#Taliban\"'\n",
        "date_since='2020-11-25'\n",
        "date_to='2021-12-29'"
      ],
      "execution_count": 37,
      "outputs": []
    },
    {
      "cell_type": "code",
      "metadata": {
        "id": "DdbyO-t4yHnw"
      },
      "source": [
        "tweets=tw.Cursor(api.search,\n",
        "                 q=search_words,\n",
        "                 lang='en',\n",
        "                 since=date_since).items(100)"
      ],
      "execution_count": 38,
      "outputs": []
    },
    {
      "cell_type": "markdown",
      "metadata": {
        "id": "Wbt9af3Fx6Pr"
      },
      "source": [
        "## Get tweets, user name, and location of user\n",
        "\n",
        "---\n",
        "\n",
        "\n",
        "\n",
        "\n",
        "\n"
      ]
    },
    {
      "cell_type": "code",
      "metadata": {
        "id": "pKzF7ykgy665"
      },
      "source": [
        "#tweet_details=[[tweet.geo, tweet.text, tweet.user.screen_name, tweet.user.location] for tweet in tweets]\n",
        "tweet_details=[[ tweet.text, tweet.user.screen_name, tweet.user.location] for tweet in tweets]\n"
      ],
      "execution_count": 39,
      "outputs": []
    },
    {
      "cell_type": "markdown",
      "metadata": {
        "id": "gUgaJuq6yFQb"
      },
      "source": [
        "## Display tweets in pandas frame\n",
        "\n",
        "---\n",
        "\n",
        "\n",
        "\n",
        "\n",
        "\n"
      ]
    },
    {
      "cell_type": "code",
      "metadata": {
        "id": "uWTff1znzldZ"
      },
      "source": [
        "import pandas as pd\n",
        "\n",
        "tweet_df = pd.DataFrame(data=tweet_details, columns=['text','user','location'] )"
      ],
      "execution_count": 40,
      "outputs": []
    },
    {
      "cell_type": "code",
      "metadata": {
        "id": "6uTaYYhpvoyq",
        "colab": {
          "base_uri": "https://localhost:8080/",
          "height": 873
        },
        "outputId": "ad82ac84-f6d3-456a-83ff-ed0f40eb4419"
      },
      "source": [
        "pd.set_option('max_colwidth',800)\n",
        "tweet_df.head(20)"
      ],
      "execution_count": 41,
      "outputs": [
        {
          "output_type": "execute_result",
          "data": {
            "text/html": [
              "<div>\n",
              "<style scoped>\n",
              "    .dataframe tbody tr th:only-of-type {\n",
              "        vertical-align: middle;\n",
              "    }\n",
              "\n",
              "    .dataframe tbody tr th {\n",
              "        vertical-align: top;\n",
              "    }\n",
              "\n",
              "    .dataframe thead th {\n",
              "        text-align: right;\n",
              "    }\n",
              "</style>\n",
              "<table border=\"1\" class=\"dataframe\">\n",
              "  <thead>\n",
              "    <tr style=\"text-align: right;\">\n",
              "      <th></th>\n",
              "      <th>text</th>\n",
              "      <th>user</th>\n",
              "      <th>location</th>\n",
              "    </tr>\n",
              "  </thead>\n",
              "  <tbody>\n",
              "    <tr>\n",
              "      <th>0</th>\n",
              "      <td>RT @Its_KiranTariq: 15 of August\\nFall of #Kabul\\n6 September\\nFall of #Panjshir\\n9/11\\nNew governance\\nIt's surprisingly #Taliban making history…</td>\n",
              "      <td>Salman_khan2233</td>\n",
              "      <td>Doha, Qatar</td>\n",
              "    </tr>\n",
              "    <tr>\n",
              "      <th>1</th>\n",
              "      <td>RT @Poet_11111: @EmartIslamiUrdu #ImamMahdi is staying in East Khorasan. He is Muhammad Qasim bin Abdul Karim. Everybody should read his's…</td>\n",
              "      <td>castle_three</td>\n",
              "      <td>Bangladesh</td>\n",
              "    </tr>\n",
              "    <tr>\n",
              "      <th>2</th>\n",
              "      <td>RT @arabnews: “The #Taliban found it easy to walk into #Kabul, offering opportunities for groups like #Daesh to expand their influence,” sa…</td>\n",
              "      <td>QamarRoshan2</td>\n",
              "      <td></td>\n",
              "    </tr>\n",
              "    <tr>\n",
              "      <th>3</th>\n",
              "      <td>RT @Massoud151: #Taliban displaced #Panjshir families forcedly and took their house &amp;amp; land. Local reporters say, Taliban took the residents…</td>\n",
              "      <td>MalikHaanya</td>\n",
              "      <td>Panjshir</td>\n",
              "    </tr>\n",
              "    <tr>\n",
              "      <th>4</th>\n",
              "      <td>RT @ZeeNewsEnglish: 'Women can't be ministers, they should give birth', says #Taliban spokesperson \\n\\n#AfghanistanCrisis #Afghanistan \\n\\nhttp…</td>\n",
              "      <td>vishalkrchsia</td>\n",
              "      <td></td>\n",
              "    </tr>\n",
              "    <tr>\n",
              "      <th>5</th>\n",
              "      <td>RT @HeshmatAlavi: The #Taliban have not changed.\\n\\nThey're continuing to train suicide bombers.\\n\\n#DoNotRecognizeTaliban \\nhttps://t.co/brtH3t…</td>\n",
              "      <td>LibertyForAll19</td>\n",
              "      <td>Milwaukee, Wisconsin.</td>\n",
              "    </tr>\n",
              "    <tr>\n",
              "      <th>6</th>\n",
              "      <td>RT @Massoud151: #Taliban displaced #Panjshir families forcedly and took their house &amp;amp; land. Local reporters say, Taliban took the residents…</td>\n",
              "      <td>awara_tara</td>\n",
              "      <td>USA, India</td>\n",
              "    </tr>\n",
              "    <tr>\n",
              "      <th>7</th>\n",
              "      <td>With at least four women, including a pregnant mother, targeted and killed by #Taliban fighters, female ex-officers… https://t.co/Gu4pLrBp4r</td>\n",
              "      <td>jftaveira1993</td>\n",
              "      <td>Portugal</td>\n",
              "    </tr>\n",
              "    <tr>\n",
              "      <th>8</th>\n",
              "      <td>RT @RubinaViews: According to #indianmedia reports, #PakistanArmy drones were seen supporting the #Taliban in #Afghanistan, but these photo…</td>\n",
              "      <td>GreenWa19260767</td>\n",
              "      <td></td>\n",
              "    </tr>\n",
              "    <tr>\n",
              "      <th>9</th>\n",
              "      <td>RT @Baba_khatarNaag: I reckon last July someone Upgraded the firmware of @Natsecjeff\\n\\nNow a days he sings only #Taliban|i songs \\n\\nThere is…</td>\n",
              "      <td>pratiksinghi</td>\n",
              "      <td>Mumbai</td>\n",
              "    </tr>\n",
              "    <tr>\n",
              "      <th>10</th>\n",
              "      <td>RT @sanjeevchadha8: @narendramodi #PanjshirValley Vs #KashmirValley ? One Pak helped because they know well that United Nation is good for…</td>\n",
              "      <td>Realdeep112</td>\n",
              "      <td>Ayodhya, India</td>\n",
              "    </tr>\n",
              "    <tr>\n",
              "      <th>11</th>\n",
              "      <td>But I thought the #Taliban are Stalwarts  for you @nytimes ? Right ? https://t.co/3dPkrHDChB</td>\n",
              "      <td>ShivaaniKTalwar</td>\n",
              "      <td></td>\n",
              "    </tr>\n",
              "    <tr>\n",
              "      <th>12</th>\n",
              "      <td>RT @Massoud151: #Taliban displaced #Panjshir families forcedly and took their house &amp;amp; land. Local reporters say, Taliban took the residents…</td>\n",
              "      <td>tagGcEWCp3PuMJE</td>\n",
              "      <td>Kabul Afghanistan</td>\n",
              "    </tr>\n",
              "    <tr>\n",
              "      <th>13</th>\n",
              "      <td>RT @PanjshirProvin1: The #Taliban cannot fill their prisons with our youth. We are innumerable and your shelters will not be enough. #Journ…</td>\n",
              "      <td>heiduschka</td>\n",
              "      <td>Deutschland</td>\n",
              "    </tr>\n",
              "    <tr>\n",
              "      <th>14</th>\n",
              "      <td>RT @DeepaParent: Beaten by batons, threatened with worse circumstances—but nothing is stopping the women of Afghanistan from standing up fo…</td>\n",
              "      <td>PVenkateshRaja</td>\n",
              "      <td></td>\n",
              "    </tr>\n",
              "    <tr>\n",
              "      <th>15</th>\n",
              "      <td>RT @JuttLife01: 6 minor girls were paraded naked through a village in India to please rain Gods. 😭\\n\\nVillagers wanted rain. \\n\\nAnd these idio…</td>\n",
              "      <td>Selenakhan007</td>\n",
              "      <td></td>\n",
              "    </tr>\n",
              "    <tr>\n",
              "      <th>16</th>\n",
              "      <td>@francescam63 The #UN is legitimizing the #Taliban.</td>\n",
              "      <td>chitraSD</td>\n",
              "      <td>Switzerland. India</td>\n",
              "    </tr>\n",
              "    <tr>\n",
              "      <th>17</th>\n",
              "      <td>Thanks @ACBofficials \\n#Cricket\\n#T20WorldCup \\n#Taliban https://t.co/qxNteOpCwb</td>\n",
              "      <td>ahm_imran_uddin</td>\n",
              "      <td>Bangladesh</td>\n",
              "    </tr>\n",
              "    <tr>\n",
              "      <th>18</th>\n",
              "      <td>RT @the_hindu: Evacuation flights have resumed for Westerners, but thousands of at-risk #Afghans who had helped the United States are still…</td>\n",
              "      <td>monu_7329</td>\n",
              "      <td>Gurugram Haryana</td>\n",
              "    </tr>\n",
              "    <tr>\n",
              "      <th>19</th>\n",
              "      <td>RT @Qayumkhaddam: Rapid humanitarian intervention is required to save civilians in #Panjshir.\\n#Taliban terrorists are committing ethnic cle…</td>\n",
              "      <td>HLakewooder</td>\n",
              "      <td></td>\n",
              "    </tr>\n",
              "  </tbody>\n",
              "</table>\n",
              "</div>"
            ],
            "text/plain": [
              "                                                                                                                                                  text  ...                location\n",
              "0   RT @Its_KiranTariq: 15 of August\\nFall of #Kabul\\n6 September\\nFall of #Panjshir\\n9/11\\nNew governance\\nIt's surprisingly #Taliban making history…  ...             Doha, Qatar\n",
              "1          RT @Poet_11111: @EmartIslamiUrdu #ImamMahdi is staying in East Khorasan. He is Muhammad Qasim bin Abdul Karim. Everybody should read his's…  ...              Bangladesh\n",
              "2         RT @arabnews: “The #Taliban found it easy to walk into #Kabul, offering opportunities for groups like #Daesh to expand their influence,” sa…  ...                        \n",
              "3     RT @Massoud151: #Taliban displaced #Panjshir families forcedly and took their house &amp; land. Local reporters say, Taliban took the residents…  ...                Panjshir\n",
              "4     RT @ZeeNewsEnglish: 'Women can't be ministers, they should give birth', says #Taliban spokesperson \\n\\n#AfghanistanCrisis #Afghanistan \\n\\nhttp…  ...                        \n",
              "5    RT @HeshmatAlavi: The #Taliban have not changed.\\n\\nThey're continuing to train suicide bombers.\\n\\n#DoNotRecognizeTaliban \\nhttps://t.co/brtH3t…  ...  Milwaukee, Wisconsin. \n",
              "6     RT @Massoud151: #Taliban displaced #Panjshir families forcedly and took their house &amp; land. Local reporters say, Taliban took the residents…  ...              USA, India\n",
              "7         With at least four women, including a pregnant mother, targeted and killed by #Taliban fighters, female ex-officers… https://t.co/Gu4pLrBp4r  ...                Portugal\n",
              "8         RT @RubinaViews: According to #indianmedia reports, #PakistanArmy drones were seen supporting the #Taliban in #Afghanistan, but these photo…  ...                        \n",
              "9      RT @Baba_khatarNaag: I reckon last July someone Upgraded the firmware of @Natsecjeff\\n\\nNow a days he sings only #Taliban|i songs \\n\\nThere is…  ...                  Mumbai\n",
              "10         RT @sanjeevchadha8: @narendramodi #PanjshirValley Vs #KashmirValley ? One Pak helped because they know well that United Nation is good for…  ...          Ayodhya, India\n",
              "11                                                        But I thought the #Taliban are Stalwarts  for you @nytimes ? Right ? https://t.co/3dPkrHDChB  ...                        \n",
              "12    RT @Massoud151: #Taliban displaced #Panjshir families forcedly and took their house &amp; land. Local reporters say, Taliban took the residents…  ...       Kabul Afghanistan\n",
              "13        RT @PanjshirProvin1: The #Taliban cannot fill their prisons with our youth. We are innumerable and your shelters will not be enough. #Journ…  ...             Deutschland\n",
              "14        RT @DeepaParent: Beaten by batons, threatened with worse circumstances—but nothing is stopping the women of Afghanistan from standing up fo…  ...                        \n",
              "15    RT @JuttLife01: 6 minor girls were paraded naked through a village in India to please rain Gods. 😭\\n\\nVillagers wanted rain. \\n\\nAnd these idio…  ...                        \n",
              "16                                                                                                 @francescam63 The #UN is legitimizing the #Taliban.  ...      Switzerland. India\n",
              "17                                                                    Thanks @ACBofficials \\n#Cricket\\n#T20WorldCup \\n#Taliban https://t.co/qxNteOpCwb  ...              Bangladesh\n",
              "18        RT @the_hindu: Evacuation flights have resumed for Westerners, but thousands of at-risk #Afghans who had helped the United States are still…  ...        Gurugram Haryana\n",
              "19       RT @Qayumkhaddam: Rapid humanitarian intervention is required to save civilians in #Panjshir.\\n#Taliban terrorists are committing ethnic cle…  ...                        \n",
              "\n",
              "[20 rows x 3 columns]"
            ]
          },
          "metadata": {},
          "execution_count": 41
        }
      ]
    },
    {
      "cell_type": "markdown",
      "metadata": {
        "id": "oYtlnFUqyQeC"
      },
      "source": [
        "## User count of tweets\n",
        "\n",
        "---\n",
        "\n",
        "\n",
        "\n",
        "\n",
        "\n",
        "\n"
      ]
    },
    {
      "cell_type": "code",
      "metadata": {
        "id": "Oud3Q7q4vucm",
        "colab": {
          "base_uri": "https://localhost:8080/"
        },
        "outputId": "097cebe2-8a24-4495-d89f-45916204fd2f"
      },
      "source": [
        "tweet_df.user.value_counts()"
      ],
      "execution_count": 42,
      "outputs": [
        {
          "output_type": "execute_result",
          "data": {
            "text/plain": [
              "jagannathpol6      5\n",
              "ManjuHerry         3\n",
              "castle_three       2\n",
              "OsintAlerts        2\n",
              "Realdeep112        2\n",
              "                  ..\n",
              "vishalkrchsia      1\n",
              "OsintUpdates       1\n",
              "arabnews           1\n",
              "Dhyanen05397696    1\n",
              "tariqspartan2      1\n",
              "Name: user, Length: 90, dtype: int64"
            ]
          },
          "metadata": {},
          "execution_count": 42
        }
      ]
    },
    {
      "cell_type": "markdown",
      "metadata": {
        "id": "7nH9J0N40K5o"
      },
      "source": [
        "## Location count\n",
        "\n",
        "---\n",
        "\n"
      ]
    },
    {
      "cell_type": "code",
      "metadata": {
        "id": "otEXLplswr5H",
        "colab": {
          "base_uri": "https://localhost:8080/"
        },
        "outputId": "45d04d9b-6a5f-4740-8aa6-f556aaded440"
      },
      "source": [
        "tweet_df.location.value_counts()"
      ],
      "execution_count": 43,
      "outputs": [
        {
          "output_type": "execute_result",
          "data": {
            "text/plain": [
              "                                43\n",
              "Bangladesh                       3\n",
              "India                            2\n",
              "Mumbai                           2\n",
              "Ayodhya, India                   2\n",
              "37.2546743, -115.7995238         1\n",
              "Portugal                         1\n",
              "QilaSaifullah, Quetta, Swat      1\n",
              "गुजरात, भारत                     1\n",
              "Mumbai, India                    1\n",
              "Saudi Arabia                     1\n",
              "Mumbai, India.                   1\n",
              "USA, India                       1\n",
              "Worldwide                        1\n",
              "Gwalior, India                   1\n",
              "Rawalpindi, Pakistan             1\n",
              "France                           1\n",
              "Gaborone, Botswana               1\n",
              "Gurugram Haryana                 1\n",
              "Bhopal, India                    1\n",
              "New Delhi, India                 1\n",
              "Seattle, WA                      1\n",
              "🇬🇧 🇦🇫 and beyond                 1\n",
              "चंडीगड़                           1\n",
              "کره خاکی                         1\n",
              "Istanbul, Turkey                 1\n",
              "Bengaluru, India                 1\n",
              "Madrid, España                   1\n",
              "England                          1\n",
              "Republic of Mouj-Kashmir 🍁       1\n",
              "BHARATVARSH                      1\n",
              "Venezuela                        1\n",
              "Navi Mumbai, India               1\n",
              "बिहार                            1\n",
              "Doha, Qatar                      1\n",
              "Islamabad, Pakistan              1\n",
              "Nottingham, England              1\n",
              "planet gaia                      1\n",
              "Deutschland                      1\n",
              "अमेठी , उत्तर प्रदेश, भारत       1\n",
              "Chennai, India                   1\n",
              "Dante's Inferno                  1\n",
              "Switzerland. India               1\n",
              "Jammu, India                     1\n",
              "European Union                   1\n",
              "Panjshir                         1\n",
              "Dubai, United Arab Emirates      1\n",
              "किफ़ायर टाउन, भारत               1\n",
              "London, England                  1\n",
              "ศาสนาแจรึน                       1\n",
              "Milwaukee, Wisconsin.            1\n",
              "भारत                             1\n",
              " Kabul Afghanistan               1\n",
              "Name: location, dtype: int64"
            ]
          },
          "metadata": {},
          "execution_count": 43
        }
      ]
    },
    {
      "cell_type": "markdown",
      "metadata": {
        "id": "k-Ud-i400Ujf"
      },
      "source": [
        "## Clean tweets\n",
        "\n",
        "---\n",
        "> Regular expression or RegEx in Python is denoted as RE (REs, regexes or regex pattern) are imported through re module.\n"
      ]
    },
    {
      "cell_type": "code",
      "metadata": {
        "id": "5_va0Tzaw6aF"
      },
      "source": [
        "import re\n",
        "def clean_tweets(text):\n",
        "  text = re.sub(\"RT @[\\w]*:\",\"\",text)   #if tweets starts with RT then return with empty and so on\n",
        "  text = re.sub(\"@[\\w]*\",\"\",text)\n",
        "  text = re.sub(\"https?://[A-Za-z0-9./]*\",\"\",text)\n",
        "  text = re.sub(\"\\n\",\"\",text)\n",
        "  return text"
      ],
      "execution_count": 44,
      "outputs": []
    },
    {
      "cell_type": "markdown",
      "metadata": {
        "id": "GtWgLaki1GsB"
      },
      "source": [
        "## Display cleaned tweets in pandas frame\n",
        "\n",
        "---\n",
        "\n",
        "\n",
        "\n",
        "\n",
        "\n"
      ]
    },
    {
      "cell_type": "code",
      "metadata": {
        "id": "VdoFUXE2yhmm",
        "colab": {
          "base_uri": "https://localhost:8080/",
          "height": 669
        },
        "outputId": "1bb08655-6760-4317-becd-f4cb53f9420f"
      },
      "source": [
        "\n",
        "tweet_df['text']=tweet_df['text'].apply(lambda x: clean_tweets(x))\n",
        "tweet_df.head(20)"
      ],
      "execution_count": 45,
      "outputs": [
        {
          "output_type": "execute_result",
          "data": {
            "text/html": [
              "<div>\n",
              "<style scoped>\n",
              "    .dataframe tbody tr th:only-of-type {\n",
              "        vertical-align: middle;\n",
              "    }\n",
              "\n",
              "    .dataframe tbody tr th {\n",
              "        vertical-align: top;\n",
              "    }\n",
              "\n",
              "    .dataframe thead th {\n",
              "        text-align: right;\n",
              "    }\n",
              "</style>\n",
              "<table border=\"1\" class=\"dataframe\">\n",
              "  <thead>\n",
              "    <tr style=\"text-align: right;\">\n",
              "      <th></th>\n",
              "      <th>text</th>\n",
              "      <th>user</th>\n",
              "      <th>location</th>\n",
              "    </tr>\n",
              "  </thead>\n",
              "  <tbody>\n",
              "    <tr>\n",
              "      <th>0</th>\n",
              "      <td>15 of AugustFall of #Kabul6 SeptemberFall of #Panjshir9/11New governanceIt's surprisingly #Taliban making history…</td>\n",
              "      <td>Salman_khan2233</td>\n",
              "      <td>Doha, Qatar</td>\n",
              "    </tr>\n",
              "    <tr>\n",
              "      <th>1</th>\n",
              "      <td>#ImamMahdi is staying in East Khorasan. He is Muhammad Qasim bin Abdul Karim. Everybody should read his's…</td>\n",
              "      <td>castle_three</td>\n",
              "      <td>Bangladesh</td>\n",
              "    </tr>\n",
              "    <tr>\n",
              "      <th>2</th>\n",
              "      <td>“The #Taliban found it easy to walk into #Kabul, offering opportunities for groups like #Daesh to expand their influence,” sa…</td>\n",
              "      <td>QamarRoshan2</td>\n",
              "      <td></td>\n",
              "    </tr>\n",
              "    <tr>\n",
              "      <th>3</th>\n",
              "      <td>#Taliban displaced #Panjshir families forcedly and took their house &amp;amp; land. Local reporters say, Taliban took the residents…</td>\n",
              "      <td>MalikHaanya</td>\n",
              "      <td>Panjshir</td>\n",
              "    </tr>\n",
              "    <tr>\n",
              "      <th>4</th>\n",
              "      <td>'Women can't be ministers, they should give birth', says #Taliban spokesperson #AfghanistanCrisis #Afghanistan http…</td>\n",
              "      <td>vishalkrchsia</td>\n",
              "      <td></td>\n",
              "    </tr>\n",
              "    <tr>\n",
              "      <th>5</th>\n",
              "      <td>The #Taliban have not changed.They're continuing to train suicide bombers.#DoNotRecognizeTaliban …</td>\n",
              "      <td>LibertyForAll19</td>\n",
              "      <td>Milwaukee, Wisconsin.</td>\n",
              "    </tr>\n",
              "    <tr>\n",
              "      <th>6</th>\n",
              "      <td>#Taliban displaced #Panjshir families forcedly and took their house &amp;amp; land. Local reporters say, Taliban took the residents…</td>\n",
              "      <td>awara_tara</td>\n",
              "      <td>USA, India</td>\n",
              "    </tr>\n",
              "    <tr>\n",
              "      <th>7</th>\n",
              "      <td>With at least four women, including a pregnant mother, targeted and killed by #Taliban fighters, female ex-officers…</td>\n",
              "      <td>jftaveira1993</td>\n",
              "      <td>Portugal</td>\n",
              "    </tr>\n",
              "    <tr>\n",
              "      <th>8</th>\n",
              "      <td>According to #indianmedia reports, #PakistanArmy drones were seen supporting the #Taliban in #Afghanistan, but these photo…</td>\n",
              "      <td>GreenWa19260767</td>\n",
              "      <td></td>\n",
              "    </tr>\n",
              "    <tr>\n",
              "      <th>9</th>\n",
              "      <td>I reckon last July someone Upgraded the firmware of Now a days he sings only #Taliban|i songs There is…</td>\n",
              "      <td>pratiksinghi</td>\n",
              "      <td>Mumbai</td>\n",
              "    </tr>\n",
              "    <tr>\n",
              "      <th>10</th>\n",
              "      <td>#PanjshirValley Vs #KashmirValley ? One Pak helped because they know well that United Nation is good for…</td>\n",
              "      <td>Realdeep112</td>\n",
              "      <td>Ayodhya, India</td>\n",
              "    </tr>\n",
              "    <tr>\n",
              "      <th>11</th>\n",
              "      <td>But I thought the #Taliban are Stalwarts  for you  ? Right ?</td>\n",
              "      <td>ShivaaniKTalwar</td>\n",
              "      <td></td>\n",
              "    </tr>\n",
              "    <tr>\n",
              "      <th>12</th>\n",
              "      <td>#Taliban displaced #Panjshir families forcedly and took their house &amp;amp; land. Local reporters say, Taliban took the residents…</td>\n",
              "      <td>tagGcEWCp3PuMJE</td>\n",
              "      <td>Kabul Afghanistan</td>\n",
              "    </tr>\n",
              "    <tr>\n",
              "      <th>13</th>\n",
              "      <td>The #Taliban cannot fill their prisons with our youth. We are innumerable and your shelters will not be enough. #Journ…</td>\n",
              "      <td>heiduschka</td>\n",
              "      <td>Deutschland</td>\n",
              "    </tr>\n",
              "    <tr>\n",
              "      <th>14</th>\n",
              "      <td>Beaten by batons, threatened with worse circumstances—but nothing is stopping the women of Afghanistan from standing up fo…</td>\n",
              "      <td>PVenkateshRaja</td>\n",
              "      <td></td>\n",
              "    </tr>\n",
              "    <tr>\n",
              "      <th>15</th>\n",
              "      <td>6 minor girls were paraded naked through a village in India to please rain Gods. 😭Villagers wanted rain. And these idio…</td>\n",
              "      <td>Selenakhan007</td>\n",
              "      <td></td>\n",
              "    </tr>\n",
              "    <tr>\n",
              "      <th>16</th>\n",
              "      <td>The #UN is legitimizing the #Taliban.</td>\n",
              "      <td>chitraSD</td>\n",
              "      <td>Switzerland. India</td>\n",
              "    </tr>\n",
              "    <tr>\n",
              "      <th>17</th>\n",
              "      <td>Thanks  #Cricket#T20WorldCup #Taliban</td>\n",
              "      <td>ahm_imran_uddin</td>\n",
              "      <td>Bangladesh</td>\n",
              "    </tr>\n",
              "    <tr>\n",
              "      <th>18</th>\n",
              "      <td>Evacuation flights have resumed for Westerners, but thousands of at-risk #Afghans who had helped the United States are still…</td>\n",
              "      <td>monu_7329</td>\n",
              "      <td>Gurugram Haryana</td>\n",
              "    </tr>\n",
              "    <tr>\n",
              "      <th>19</th>\n",
              "      <td>Rapid humanitarian intervention is required to save civilians in #Panjshir.#Taliban terrorists are committing ethnic cle…</td>\n",
              "      <td>HLakewooder</td>\n",
              "      <td></td>\n",
              "    </tr>\n",
              "  </tbody>\n",
              "</table>\n",
              "</div>"
            ],
            "text/plain": [
              "                                                                                                                                 text  ...                location\n",
              "0                  15 of AugustFall of #Kabul6 SeptemberFall of #Panjshir9/11New governanceIt's surprisingly #Taliban making history…  ...             Doha, Qatar\n",
              "1                          #ImamMahdi is staying in East Khorasan. He is Muhammad Qasim bin Abdul Karim. Everybody should read his's…  ...              Bangladesh\n",
              "2      “The #Taliban found it easy to walk into #Kabul, offering opportunities for groups like #Daesh to expand their influence,” sa…  ...                        \n",
              "3    #Taliban displaced #Panjshir families forcedly and took their house &amp; land. Local reporters say, Taliban took the residents…  ...                Panjshir\n",
              "4                'Women can't be ministers, they should give birth', says #Taliban spokesperson #AfghanistanCrisis #Afghanistan http…  ...                        \n",
              "5                                  The #Taliban have not changed.They're continuing to train suicide bombers.#DoNotRecognizeTaliban …  ...  Milwaukee, Wisconsin. \n",
              "6    #Taliban displaced #Panjshir families forcedly and took their house &amp; land. Local reporters say, Taliban took the residents…  ...              USA, India\n",
              "7               With at least four women, including a pregnant mother, targeted and killed by #Taliban fighters, female ex-officers…   ...                Portugal\n",
              "8         According to #indianmedia reports, #PakistanArmy drones were seen supporting the #Taliban in #Afghanistan, but these photo…  ...                        \n",
              "9                             I reckon last July someone Upgraded the firmware of Now a days he sings only #Taliban|i songs There is…  ...                  Mumbai\n",
              "10                          #PanjshirValley Vs #KashmirValley ? One Pak helped because they know well that United Nation is good for…  ...          Ayodhya, India\n",
              "11                                                                      But I thought the #Taliban are Stalwarts  for you  ? Right ?   ...                        \n",
              "12   #Taliban displaced #Panjshir families forcedly and took their house &amp; land. Local reporters say, Taliban took the residents…  ...       Kabul Afghanistan\n",
              "13            The #Taliban cannot fill their prisons with our youth. We are innumerable and your shelters will not be enough. #Journ…  ...             Deutschland\n",
              "14        Beaten by batons, threatened with worse circumstances—but nothing is stopping the women of Afghanistan from standing up fo…  ...                        \n",
              "15           6 minor girls were paraded naked through a village in India to please rain Gods. 😭Villagers wanted rain. And these idio…  ...                        \n",
              "16                                                                                              The #UN is legitimizing the #Taliban.  ...      Switzerland. India\n",
              "17                                                                                             Thanks  #Cricket#T20WorldCup #Taliban   ...              Bangladesh\n",
              "18      Evacuation flights have resumed for Westerners, but thousands of at-risk #Afghans who had helped the United States are still…  ...        Gurugram Haryana\n",
              "19          Rapid humanitarian intervention is required to save civilians in #Panjshir.#Taliban terrorists are committing ethnic cle…  ...                        \n",
              "\n",
              "[20 rows x 3 columns]"
            ]
          },
          "metadata": {},
          "execution_count": 45
        }
      ]
    },
    {
      "cell_type": "code",
      "metadata": {
        "id": "Gr1kaNt60jds"
      },
      "source": [
        "#tweet_df.to_csv('tweets.csv')"
      ],
      "execution_count": 46,
      "outputs": []
    },
    {
      "cell_type": "code",
      "metadata": {
        "id": "DjdmI27E1h7J"
      },
      "source": [
        "#!ls"
      ],
      "execution_count": 47,
      "outputs": []
    },
    {
      "cell_type": "markdown",
      "metadata": {
        "id": "qNlr6yui2_3h"
      },
      "source": [
        "## Entity Detection using Spacy"
      ]
    },
    {
      "cell_type": "code",
      "metadata": {
        "id": "RLqt9w9r3GiF",
        "colab": {
          "base_uri": "https://localhost:8080/"
        },
        "outputId": "7f7cff9a-0e11-42eb-dbdc-00f64e2b1dee"
      },
      "source": [
        "#apply lambda for each tweet. Whereever there's # ignore it (earlier we did not remove # )\n",
        "# Now we have all entities coming using spacy\n",
        "import spacy\n",
        "\n",
        "nlp = spacy.load('en_core_web_sm')\n",
        "tweet_df['text'].apply(lambda x: [print(\"\\tText : {}, Entity: {}\".format(ent.text, ent.label_)) if (not ent.text.startswith('#')) else \"\" for ent in nlp(x).ents])"
      ],
      "execution_count": 48,
      "outputs": [
        {
          "output_type": "stream",
          "name": "stdout",
          "text": [
            "\tText : 15, Entity: CARDINAL\n",
            "\tText : Taliban, Entity: ORG\n",
            "\tText : ImamMahdi, Entity: PERSON\n",
            "\tText : East Khorasan, Entity: GPE\n",
            "\tText : Muhammad Qasim, Entity: PERSON\n",
            "\tText : bin Abdul Karim, Entity: PERSON\n",
            "\tText : Taliban, Entity: ORG\n",
            "\tText : Kabul, Entity: GPE\n",
            "\tText : Daesh, Entity: MONEY\n",
            "\tText : Taliban, Entity: PERSON\n",
            "\tText : Panjshir, Entity: MONEY\n",
            "\tText : Taliban, Entity: ORG\n",
            "\tText : Taliban, Entity: PERSON\n",
            "\tText : Afghanistan, Entity: GPE\n",
            "\tText : Taliban, Entity: ORG\n",
            "\tText : They're, Entity: ORG\n",
            "\tText : Taliban, Entity: PERSON\n",
            "\tText : Panjshir, Entity: MONEY\n",
            "\tText : Taliban, Entity: ORG\n",
            "\tText : at least four, Entity: CARDINAL\n",
            "\tText : Taliban, Entity: PERSON\n",
            "\tText : PakistanArmy, Entity: PERSON\n",
            "\tText : Taliban, Entity: ORG\n",
            "\tText : Afghanistan, Entity: GPE\n",
            "\tText : last July, Entity: DATE\n",
            "\tText : Taliban|i, Entity: PERSON\n",
            "\tText : One, Entity: CARDINAL\n",
            "\tText : United Nation, Entity: ORG\n",
            "\tText : Taliban, Entity: ORG\n",
            "\tText : Stalwarts, Entity: LOC\n",
            "\tText : Taliban, Entity: PERSON\n",
            "\tText : Panjshir, Entity: MONEY\n",
            "\tText : Taliban, Entity: ORG\n",
            "\tText : Taliban, Entity: ORG\n",
            "\tText : Journ, Entity: PERSON\n",
            "\tText : Afghanistan, Entity: GPE\n",
            "\tText : 6, Entity: CARDINAL\n",
            "\tText : India, Entity: GPE\n",
            "\tText : UN, Entity: ORG\n",
            "\tText : Taliban, Entity: ORG\n",
            "\tText : Taliban, Entity: ORG\n",
            "\tText : Westerners, Entity: ORG\n",
            "\tText : thousands, Entity: CARDINAL\n",
            "\tText : Afghans, Entity: NORP\n",
            "\tText : the United States, Entity: GPE\n",
            "\tText : Rapid, Entity: ORG\n",
            "\tText : Pakistan, Entity: GPE\n",
            "\tText : Afghanistan, Entity: GPE\n",
            "\tText : Taliban, Entity: ORG\n",
            "\tText : Taliban, Entity: PERSON\n",
            "\tText : millions, Entity: CARDINAL\n",
            "\tText : Afghani, Entity: PERSON\n",
            "\tText : Kabul, Entity: GPE\n",
            "\tText : Taliban, Entity: PERSON\n",
            "\tText : Pakistan, Entity: GPE\n",
            "\tText : 1999, Entity: DATE\n",
            "\tText : 2008, Entity: DATE\n",
            "\tText : Pervez Musharraf, Entity: PERSON\n",
            "\tText : SirajuddinHaqqani, Entity: PERSON\n",
            "\tText : FBI, Entity: ORG\n",
            "\tText : 9/11, Entity: CARDINAL\n",
            "\tText : Judy, Entity: PERSON\n",
            "\tText : first, Entity: ORDINAL\n",
            "\tText : Taliban, Entity: ORG\n",
            "\tText : Kabul, Entity: GPE\n",
            "\tText : Less than a month, Entity: DATE\n",
            "\tText : Taliban, Entity: ORG\n",
            "\tText : Afghanistan, Entity: GPE\n",
            "\tText : Taliban, Entity: PERSON\n",
            "\tText : Afghanistan, Entity: GPE\n",
            "\tText : Zambia, Entity: PERSON\n",
            "\tText : Norwegian, Entity: NORP\n",
            "\tText : Kabul, Entity: GPE\n",
            "\tText : Chinese, Entity: NORP\n",
            "\tText : English, Entity: LANGUAGE\n",
            "\tText : Chinese, Entity: LANGUAGE\n",
            "\tText : September 6, Entity: DATE\n",
            "\tText : Commande sur🇨🇵✔, Entity: PERSON\n",
            "\tText : Taliban, Entity: ORG\n",
            "\tText : Afghanistan, Entity: GPE\n",
            "\tText : Hindu, Entity: NORP\n",
            "\tText : Rashtra, Entity: PERSON\n",
            "\tText : Westerners, Entity: ORG\n",
            "\tText : thousands, Entity: CARDINAL\n",
            "\tText : Afghans, Entity: NORP\n",
            "\tText : the United States, Entity: GPE\n",
            "\tText : China, Entity: GPE\n",
            "\tText : US, Entity: GPE\n",
            "\tText : Taliban, Entity: ORG\n",
            "\tText : US, Entity: GPE\n",
            "\tText : Afghanistan, Entity: GPE\n",
            "\tText : Jewish, Entity: NORP\n",
            "\tText : Taliban, Entity: ORG\n",
            "\tText : Taliban, Entity: PERSON\n",
            "\tText : Kabul International Airport, Entity: FAC\n",
            "\tText : Nowz, Entity: PERSON\n",
            "\tText : Taliban, Entity: ORG\n",
            "\tText : Taliban, Entity: PERSON\n",
            "\tText : Afghanistan, Entity: GPE\n",
            "\tText : Kabul, Entity: GPE\n",
            "\tText : BigUpdate, Entity: PERSON\n",
            "\tText : Taliban, Entity: PERSON\n",
            "\tText : PanjshirValley, Entity: MONEY\n",
            "\tText : today, Entity: DATE\n",
            "\tText : Taliban, Entity: ORG\n",
            "\tText : ImamMahdi, Entity: PERSON\n",
            "\tText : East Khorasan, Entity: GPE\n",
            "\tText : Muhammad Qasim, Entity: PERSON\n",
            "\tText : bin Abdul Karim, Entity: PERSON\n",
            "\tText : Afghanistan, Entity: GPE\n",
            "\tText : Kabul, Entity: GPE\n",
            "\tText : Afghan, Entity: NORP\n",
            "\tText : Taliban, Entity: PERSON\n",
            "\tText : Westerners, Entity: NORP\n",
            "\tText : thousands, Entity: CARDINAL\n",
            "\tText : Afghans, Entity: NORP\n",
            "\tText : the United States, Entity: GPE\n",
            "\tText : Taliban, Entity: ORG\n",
            "\tText : Kabul, Entity: GPE\n",
            "\tText : Daesh, Entity: MONEY\n",
            "\tText : Taliban, Entity: PERSON\n",
            "\tText : Taliban, Entity: PERSON\n",
            "\tText : Panjshir, Entity: MONEY\n",
            "\tText : Taliban, Entity: ORG\n",
            "\tText : Iran, Entity: GPE\n",
            "\tText : Taliban, Entity: ORG\n",
            "\tText : Shiite, Entity: NORP\n",
            "\tText : Taliban, Entity: PERSON\n",
            "\tText : Panjshir, Entity: MONEY\n",
            "\tText : Taliban, Entity: ORG\n",
            "\tText : Biden, Entity: PERSON\n",
            "\tText : Taliban, Entity: ORG\n",
            "\tText : SirajuddinHaqqani, Entity: PERSON\n",
            "\tText : FBI, Entity: ORG\n",
            "\tText : 9/11, Entity: CARDINAL\n",
            "\tText : Army, Entity: ORG\n",
            "\tText : PakistanNow, Entity: PERSON\n",
            "\tText : AfghanistanWorse, Entity: ORG\n",
            "\tText : Taliban, Entity: ORG\n",
            "\tText : Herat, Entity: PERSON\n",
            "\tText : two days ago, Entity: DATE\n",
            "\tText : contac, Entity: ORG\n",
            "\tText : WARNING, Entity: PERSON\n",
            "\tText : DISTURBING#Taliban, Entity: CARDINAL\n",
            "\tText : Afghan, Entity: NORP\n",
            "\tText : Taliban, Entity: ORG\n",
            "\tText : Taliban, Entity: PERSON\n",
            "\tText : 1st, Entity: ORDINAL\n",
            "\tText : 40%, Entity: PERCENT\n",
            "\tText : Taliban, Entity: ORG\n",
            "\tText : Bamiyan, Entity: PERSON\n",
            "\tText : 2nd, Entity: DATE\n",
            "\tText : Taliban, Entity: ORG\n",
            "\tText : Journ, Entity: PERSON\n",
            "\tText : Taliban, Entity: ORG\n",
            "\tText : Taliban, Entity: PERSON\n",
            "\tText : Panjshir, Entity: MONEY\n",
            "\tText : Taliban, Entity: ORG\n",
            "\tText : Afghanistan, Entity: PERSON\n",
            "\tText : Taliban, Entity: ORG\n",
            "\tText : Taliban, Entity: PERSON\n",
            "\tText : India, Entity: GPE\n",
            "\tText : Muslims, Entity: NORP\n",
            "\tText : Taliban, Entity: ORG\n",
            "\tText : They're, Entity: ORG\n",
            "\tText : Congress, Entity: ORG\n",
            "\tText : Digvijaya Singh, Entity: PERSON\n",
            "\tText : Taliban, Entity: PERSON\n",
            "\tText : RSS, Entity: MONEY\n",
            "\tText : Taliban, Entity: ORG\n",
            "\tText : Afghanistan, Entity: GPE\n",
            "\tText : Hindu, Entity: NORP\n",
            "\tText : Rashtra, Entity: PERSON\n",
            "\tText : Taliban, Entity: PERSON\n",
            "\tText : Afghanistan, Entity: GPE\n",
            "\tText : NRF, Entity: PERSON\n",
            "\tText : Hasib Panjshiri, Entity: PERSON\n",
            "\tText : Taliban, Entity: ORG\n",
            "\tText : 2002, Entity: DATE\n",
            "\tText : Afghan, Entity: NORP\n",
            "\tText : Afghan, Entity: NORP\n",
            "\tText : US, Entity: GPE\n",
            "\tText : Taliban, Entity: PERSON\n",
            "\tText : Afghanistan, Entity: GPE\n",
            "\tText : first, Entity: ORDINAL\n",
            "\tText : Iran, Entity: GPE\n",
            "\tText : India, Entity: GPE\n",
            "\tText : One, Entity: CARDINAL\n",
            "\tText : United Nation, Entity: ORG\n",
            "\tText : Taliban, Entity: ORG\n",
            "\tText : 2002, Entity: DATE\n",
            "\tText : Afghan, Entity: NORP\n",
            "\tText : Afghan, Entity: NORP\n",
            "\tText : US, Entity: GPE\n",
            "\tText : Taliban, Entity: PERSON\n",
            "\tText : Afghanistan, Entity: GPE\n",
            "\tText : first, Entity: ORDINAL\n",
            "\tText : Iran, Entity: GPE\n",
            "\tText : India, Entity: GPE\n",
            "\tText : Taliban, Entity: PERSON\n",
            "\tText : 11 September, Entity: DATE\n",
            "\tText : Afghanistan, Entity: GPE\n",
            "\tText : Kabul, Entity: GPE\n",
            "\tText : Afghan, Entity: NORP\n",
            "\tText : Taliban, Entity: PERSON\n",
            "\tText : SirajuddinHaqqani, Entity: PERSON\n",
            "\tText : FBI, Entity: ORG\n",
            "\tText : 9/11, Entity: CARDINAL\n",
            "\tText : Taliban, Entity: PERSON\n",
            "\tText : Daesh, Entity: GPE\n",
            "\tText : Islamic, Entity: NORP\n",
            "\tText : one, Entity: CARDINAL\n",
            "\tText : Taliban, Entity: PERSON\n",
            "\tText : India, Entity: GPE\n",
            "\tText : Muslims, Entity: NORP\n",
            "\tText : One, Entity: CARDINAL\n",
            "\tText : two, Entity: CARDINAL\n",
            "\tText : yesterday, Entity: DATE\n",
            "\tText : One, Entity: CARDINAL\n",
            "\tText : United Nation, Entity: ORG\n",
            "\tText : Taliban, Entity: PERSON\n",
            "\tText : Panjshir, Entity: MONEY\n",
            "\tText : Taliban, Entity: ORG\n",
            "\tText : Afghanistan, Entity: GPE\n",
            "\tText : Kabul, Entity: PERSON\n",
            "\tText : Taliban, Entity: ORG\n",
            "\tText : this era, Entity: DATE\n",
            "\tText : an Islamic Revolution, Entity: EVENT\n",
            "\tText : Mashallah ❤, Entity: PERSON\n",
            "\tText : Taliban, Entity: ORG\n",
            "\tText : Afghanistan, Entity: GPE\n",
            "\tText : India, Entity: GPE\n",
            "\tText : Iran, Entity: GPE\n",
            "\tText : Pakistan, Entity: GPE\n",
            "\tText : Russia, Entity: GPE\n",
            "\tText : China, Entity: GPE\n",
            "\tText : Taliban, Entity: PERSON\n",
            "\tText : Taliban, Entity: PERSON\n",
            "\tText : Panjshir, Entity: MONEY\n",
            "\tText : Taliban, Entity: ORG\n",
            "\tText : Afghanistan, Entity: GPE\n",
            "\tText : Kabul, Entity: GPE\n",
            "\tText : Afghan, Entity: NORP\n",
            "\tText : Taliban, Entity: PERSON\n",
            "\tText : Ahmadinejad, Entity: PERSON\n",
            "\tText : Taliban, Entity: PERSON\n",
            "\tText : Pakistan, Entity: GPE\n",
            "\tText : Taliban, Entity: ORG\n",
            "\tText : Panjshir, Entity: MONEY\n",
            "\tText : Iran, Entity: GPE\n",
            "\tText : Islamabad, Entity: GPE\n",
            "\tText : Taliban, Entity: ORG\n",
            "\tText : Iran, Entity: GPE\n",
            "\tText : the #National Resistance Front, Entity: ORG\n",
            "\tText : Taliban, Entity: PERSON\n",
            "\tText : Taliban, Entity: PERSON\n",
            "\tText : 👇, Entity: CARDINAL\n",
            "\tText : Spotlight, Entity: PERSON\n",
            "\tText : Daesh, Entity: MONEY\n",
            "\tText : ISIS-K, Entity: PRODUCT\n",
            "\tText : Afghanistan, Entity: GPE\n",
            "\tText : Afghanistan, Entity: GPE\n",
            "\tText : Kabul, Entity: GPE\n",
            "\tText : Afghan, Entity: NORP\n",
            "\tText : Taliban, Entity: PERSON\n",
            "\tText : kabul, Entity: GPE\n",
            "\tText : Taliban, Entity: ORG\n",
            "\tText : Haqqani, Entity: PERSON\n",
            "\tText : Govt, Entity: ORG\n",
            "\tText : Muslims, Entity: NORP\n",
            "\tText : Muslims, Entity: NORP\n",
            "\tText : Pakistan, Entity: GPE\n",
            "\tText : Taliban, Entity: ORG\n",
            "\tText : Panjshir, Entity: MONEY\n",
            "\tText : Iran, Entity: GPE\n",
            "\tText : Islamabad, Entity: GPE\n",
            "\tText : DSEI2021, Entity: MONEY\n",
            "\tText : Ahmadinejad, Entity: PERSON\n",
            "\tText : Taliban, Entity: PERSON\n",
            "\tText : Brutal Video, Entity: ORG\n",
            "\tText : Taliban, Entity: ORG\n",
            "\tText : India, Entity: GPE\n",
            "\tText : Iran, Entity: GPE\n",
            "\tText : Pakistan, Entity: GPE\n",
            "\tText : Russia, Entity: GPE\n",
            "\tText : China, Entity: GPE\n",
            "\tText : Taliban, Entity: PERSON\n"
          ]
        },
        {
          "output_type": "execute_result",
          "data": {
            "text/plain": [
              "0                             [None, None]\n",
              "1                 [None, None, None, None]\n",
              "2                       [None, None, None]\n",
              "3                       [None, None, None]\n",
              "4                             [None, None]\n",
              "                      ...                 \n",
              "95          [None, None, None, None, None]\n",
              "96                                  [None]\n",
              "97                            [None, None]\n",
              "98                            [None, None]\n",
              "99    [None, None, None, None, None, None]\n",
              "Name: text, Length: 100, dtype: object"
            ]
          },
          "metadata": {},
          "execution_count": 48
        }
      ]
    },
    {
      "cell_type": "markdown",
      "metadata": {
        "id": "pAQly3l-3UlX"
      },
      "source": [
        "## Include another column in frame to show entity\n",
        "\n",
        "---\n",
        "\n",
        "\n",
        "\n",
        "\n"
      ]
    },
    {
      "cell_type": "code",
      "metadata": {
        "id": "I2wOMSjDWHMV",
        "colab": {
          "base_uri": "https://localhost:8080/",
          "height": 529
        },
        "outputId": "754571f6-cfdd-4de2-c6e5-e0c8ff94786b"
      },
      "source": [
        "tweet_df['entities']=tweet_df['text'].apply(lambda x:[(ent.text, ent.label_) if(not ent.text.startswith('#')) else \"\" for ent in nlp(x).ents])\n",
        "tweet_df.head(10)"
      ],
      "execution_count": 49,
      "outputs": [
        {
          "output_type": "execute_result",
          "data": {
            "text/html": [
              "<div>\n",
              "<style scoped>\n",
              "    .dataframe tbody tr th:only-of-type {\n",
              "        vertical-align: middle;\n",
              "    }\n",
              "\n",
              "    .dataframe tbody tr th {\n",
              "        vertical-align: top;\n",
              "    }\n",
              "\n",
              "    .dataframe thead th {\n",
              "        text-align: right;\n",
              "    }\n",
              "</style>\n",
              "<table border=\"1\" class=\"dataframe\">\n",
              "  <thead>\n",
              "    <tr style=\"text-align: right;\">\n",
              "      <th></th>\n",
              "      <th>text</th>\n",
              "      <th>user</th>\n",
              "      <th>location</th>\n",
              "      <th>entities</th>\n",
              "    </tr>\n",
              "  </thead>\n",
              "  <tbody>\n",
              "    <tr>\n",
              "      <th>0</th>\n",
              "      <td>15 of AugustFall of #Kabul6 SeptemberFall of #Panjshir9/11New governanceIt's surprisingly #Taliban making history…</td>\n",
              "      <td>Salman_khan2233</td>\n",
              "      <td>Doha, Qatar</td>\n",
              "      <td>[(15, CARDINAL), (Taliban, ORG)]</td>\n",
              "    </tr>\n",
              "    <tr>\n",
              "      <th>1</th>\n",
              "      <td>#ImamMahdi is staying in East Khorasan. He is Muhammad Qasim bin Abdul Karim. Everybody should read his's…</td>\n",
              "      <td>castle_three</td>\n",
              "      <td>Bangladesh</td>\n",
              "      <td>[(ImamMahdi, PERSON), (East Khorasan, GPE), (Muhammad Qasim, PERSON), (bin Abdul Karim, PERSON)]</td>\n",
              "    </tr>\n",
              "    <tr>\n",
              "      <th>2</th>\n",
              "      <td>“The #Taliban found it easy to walk into #Kabul, offering opportunities for groups like #Daesh to expand their influence,” sa…</td>\n",
              "      <td>QamarRoshan2</td>\n",
              "      <td></td>\n",
              "      <td>[(Taliban, ORG), (Kabul, GPE), (Daesh, MONEY)]</td>\n",
              "    </tr>\n",
              "    <tr>\n",
              "      <th>3</th>\n",
              "      <td>#Taliban displaced #Panjshir families forcedly and took their house &amp;amp; land. Local reporters say, Taliban took the residents…</td>\n",
              "      <td>MalikHaanya</td>\n",
              "      <td>Panjshir</td>\n",
              "      <td>[(Taliban, PERSON), (Panjshir, MONEY), (Taliban, ORG)]</td>\n",
              "    </tr>\n",
              "    <tr>\n",
              "      <th>4</th>\n",
              "      <td>'Women can't be ministers, they should give birth', says #Taliban spokesperson #AfghanistanCrisis #Afghanistan http…</td>\n",
              "      <td>vishalkrchsia</td>\n",
              "      <td></td>\n",
              "      <td>[(Taliban, PERSON), (Afghanistan, GPE)]</td>\n",
              "    </tr>\n",
              "    <tr>\n",
              "      <th>5</th>\n",
              "      <td>The #Taliban have not changed.They're continuing to train suicide bombers.#DoNotRecognizeTaliban …</td>\n",
              "      <td>LibertyForAll19</td>\n",
              "      <td>Milwaukee, Wisconsin.</td>\n",
              "      <td>[(Taliban, ORG), (They're, ORG)]</td>\n",
              "    </tr>\n",
              "    <tr>\n",
              "      <th>6</th>\n",
              "      <td>#Taliban displaced #Panjshir families forcedly and took their house &amp;amp; land. Local reporters say, Taliban took the residents…</td>\n",
              "      <td>awara_tara</td>\n",
              "      <td>USA, India</td>\n",
              "      <td>[(Taliban, PERSON), (Panjshir, MONEY), (Taliban, ORG)]</td>\n",
              "    </tr>\n",
              "    <tr>\n",
              "      <th>7</th>\n",
              "      <td>With at least four women, including a pregnant mother, targeted and killed by #Taliban fighters, female ex-officers…</td>\n",
              "      <td>jftaveira1993</td>\n",
              "      <td>Portugal</td>\n",
              "      <td>[(at least four, CARDINAL), (Taliban, PERSON)]</td>\n",
              "    </tr>\n",
              "    <tr>\n",
              "      <th>8</th>\n",
              "      <td>According to #indianmedia reports, #PakistanArmy drones were seen supporting the #Taliban in #Afghanistan, but these photo…</td>\n",
              "      <td>GreenWa19260767</td>\n",
              "      <td></td>\n",
              "      <td>[(PakistanArmy, PERSON), (Taliban, ORG), (Afghanistan, GPE)]</td>\n",
              "    </tr>\n",
              "    <tr>\n",
              "      <th>9</th>\n",
              "      <td>I reckon last July someone Upgraded the firmware of Now a days he sings only #Taliban|i songs There is…</td>\n",
              "      <td>pratiksinghi</td>\n",
              "      <td>Mumbai</td>\n",
              "      <td>[(last July, DATE), (Taliban|i, PERSON)]</td>\n",
              "    </tr>\n",
              "  </tbody>\n",
              "</table>\n",
              "</div>"
            ],
            "text/plain": [
              "                                                                                                                                text  ...                                                                                          entities\n",
              "0                 15 of AugustFall of #Kabul6 SeptemberFall of #Panjshir9/11New governanceIt's surprisingly #Taliban making history…  ...                                                                  [(15, CARDINAL), (Taliban, ORG)]\n",
              "1                         #ImamMahdi is staying in East Khorasan. He is Muhammad Qasim bin Abdul Karim. Everybody should read his's…  ...  [(ImamMahdi, PERSON), (East Khorasan, GPE), (Muhammad Qasim, PERSON), (bin Abdul Karim, PERSON)]\n",
              "2     “The #Taliban found it easy to walk into #Kabul, offering opportunities for groups like #Daesh to expand their influence,” sa…  ...                                                    [(Taliban, ORG), (Kabul, GPE), (Daesh, MONEY)]\n",
              "3   #Taliban displaced #Panjshir families forcedly and took their house &amp; land. Local reporters say, Taliban took the residents…  ...                                            [(Taliban, PERSON), (Panjshir, MONEY), (Taliban, ORG)]\n",
              "4               'Women can't be ministers, they should give birth', says #Taliban spokesperson #AfghanistanCrisis #Afghanistan http…  ...                                                           [(Taliban, PERSON), (Afghanistan, GPE)]\n",
              "5                                 The #Taliban have not changed.They're continuing to train suicide bombers.#DoNotRecognizeTaliban …  ...                                                                  [(Taliban, ORG), (They're, ORG)]\n",
              "6   #Taliban displaced #Panjshir families forcedly and took their house &amp; land. Local reporters say, Taliban took the residents…  ...                                            [(Taliban, PERSON), (Panjshir, MONEY), (Taliban, ORG)]\n",
              "7              With at least four women, including a pregnant mother, targeted and killed by #Taliban fighters, female ex-officers…   ...                                                    [(at least four, CARDINAL), (Taliban, PERSON)]\n",
              "8        According to #indianmedia reports, #PakistanArmy drones were seen supporting the #Taliban in #Afghanistan, but these photo…  ...                                      [(PakistanArmy, PERSON), (Taliban, ORG), (Afghanistan, GPE)]\n",
              "9                            I reckon last July someone Upgraded the firmware of Now a days he sings only #Taliban|i songs There is…  ...                                                          [(last July, DATE), (Taliban|i, PERSON)]\n",
              "\n",
              "[10 rows x 4 columns]"
            ]
          },
          "metadata": {},
          "execution_count": 49
        }
      ]
    },
    {
      "cell_type": "markdown",
      "metadata": {
        "id": "k4j7Mtdn3m4B"
      },
      "source": [
        "## Sentiment Analysis using NLTK\n",
        "\n",
        "---\n",
        "\n",
        "\n",
        "\n",
        "\n",
        "\n"
      ]
    },
    {
      "cell_type": "code",
      "metadata": {
        "id": "FopnfE1k5KCb",
        "colab": {
          "base_uri": "https://localhost:8080/"
        },
        "outputId": "c330480f-67e3-4902-8b27-aa58541c544b"
      },
      "source": [
        "import nltk\n",
        "from nltk.sentiment.vader import SentimentIntensityAnalyzer\n",
        "nltk.download('vader_lexicon')\n"
      ],
      "execution_count": 50,
      "outputs": [
        {
          "output_type": "stream",
          "name": "stdout",
          "text": [
            "[nltk_data] Downloading package vader_lexicon to /root/nltk_data...\n",
            "[nltk_data]   Package vader_lexicon is already up-to-date!\n"
          ]
        },
        {
          "output_type": "execute_result",
          "data": {
            "text/plain": [
              "True"
            ]
          },
          "metadata": {},
          "execution_count": 50
        }
      ]
    },
    {
      "cell_type": "markdown",
      "metadata": {
        "id": "SSs4y1zy3wTp"
      },
      "source": [
        "## Initialise Sentiment Analyser\n",
        "\n",
        "---\n",
        "\n",
        "\n",
        "\n",
        "\n"
      ]
    },
    {
      "cell_type": "code",
      "metadata": {
        "id": "_S8V2jngcRU_"
      },
      "source": [
        "sid = SentimentIntensityAnalyzer()"
      ],
      "execution_count": 51,
      "outputs": []
    },
    {
      "cell_type": "markdown",
      "metadata": {
        "id": "TJR6I80C34Ya"
      },
      "source": [
        "## Create one  more column called sentiment\n",
        "\n",
        "---\n",
        "\n"
      ]
    },
    {
      "cell_type": "code",
      "metadata": {
        "id": "fIyWc5Gecu80"
      },
      "source": [
        "\n",
        "tweet_df['sentiment'] = tweet_df['text'].apply(lambda x: sid.polarity_scores(x))"
      ],
      "execution_count": 52,
      "outputs": []
    },
    {
      "cell_type": "code",
      "metadata": {
        "id": "u_n8zXLfdPHf",
        "colab": {
          "base_uri": "https://localhost:8080/",
          "height": 580
        },
        "outputId": "6e566635-5079-44fe-db7e-6874c3015cfe"
      },
      "source": [
        "tweet_df.head(10)"
      ],
      "execution_count": 53,
      "outputs": [
        {
          "output_type": "execute_result",
          "data": {
            "text/html": [
              "<div>\n",
              "<style scoped>\n",
              "    .dataframe tbody tr th:only-of-type {\n",
              "        vertical-align: middle;\n",
              "    }\n",
              "\n",
              "    .dataframe tbody tr th {\n",
              "        vertical-align: top;\n",
              "    }\n",
              "\n",
              "    .dataframe thead th {\n",
              "        text-align: right;\n",
              "    }\n",
              "</style>\n",
              "<table border=\"1\" class=\"dataframe\">\n",
              "  <thead>\n",
              "    <tr style=\"text-align: right;\">\n",
              "      <th></th>\n",
              "      <th>text</th>\n",
              "      <th>user</th>\n",
              "      <th>location</th>\n",
              "      <th>entities</th>\n",
              "      <th>sentiment</th>\n",
              "    </tr>\n",
              "  </thead>\n",
              "  <tbody>\n",
              "    <tr>\n",
              "      <th>0</th>\n",
              "      <td>15 of AugustFall of #Kabul6 SeptemberFall of #Panjshir9/11New governanceIt's surprisingly #Taliban making history…</td>\n",
              "      <td>Salman_khan2233</td>\n",
              "      <td>Doha, Qatar</td>\n",
              "      <td>[(15, CARDINAL), (Taliban, ORG)]</td>\n",
              "      <td>{'neg': 0.0, 'neu': 0.845, 'pos': 0.155, 'compound': 0.296}</td>\n",
              "    </tr>\n",
              "    <tr>\n",
              "      <th>1</th>\n",
              "      <td>#ImamMahdi is staying in East Khorasan. He is Muhammad Qasim bin Abdul Karim. Everybody should read his's…</td>\n",
              "      <td>castle_three</td>\n",
              "      <td>Bangladesh</td>\n",
              "      <td>[(ImamMahdi, PERSON), (East Khorasan, GPE), (Muhammad Qasim, PERSON), (bin Abdul Karim, PERSON)]</td>\n",
              "      <td>{'neg': 0.0, 'neu': 1.0, 'pos': 0.0, 'compound': 0.0}</td>\n",
              "    </tr>\n",
              "    <tr>\n",
              "      <th>2</th>\n",
              "      <td>“The #Taliban found it easy to walk into #Kabul, offering opportunities for groups like #Daesh to expand their influence,” sa…</td>\n",
              "      <td>QamarRoshan2</td>\n",
              "      <td></td>\n",
              "      <td>[(Taliban, ORG), (Kabul, GPE), (Daesh, MONEY)]</td>\n",
              "      <td>{'neg': 0.0, 'neu': 0.608, 'pos': 0.392, 'compound': 0.8519}</td>\n",
              "    </tr>\n",
              "    <tr>\n",
              "      <th>3</th>\n",
              "      <td>#Taliban displaced #Panjshir families forcedly and took their house &amp;amp; land. Local reporters say, Taliban took the residents…</td>\n",
              "      <td>MalikHaanya</td>\n",
              "      <td>Panjshir</td>\n",
              "      <td>[(Taliban, PERSON), (Panjshir, MONEY), (Taliban, ORG)]</td>\n",
              "      <td>{'neg': 0.0, 'neu': 1.0, 'pos': 0.0, 'compound': 0.0}</td>\n",
              "    </tr>\n",
              "    <tr>\n",
              "      <th>4</th>\n",
              "      <td>'Women can't be ministers, they should give birth', says #Taliban spokesperson #AfghanistanCrisis #Afghanistan http…</td>\n",
              "      <td>vishalkrchsia</td>\n",
              "      <td></td>\n",
              "      <td>[(Taliban, PERSON), (Afghanistan, GPE)]</td>\n",
              "      <td>{'neg': 0.0, 'neu': 1.0, 'pos': 0.0, 'compound': 0.0}</td>\n",
              "    </tr>\n",
              "    <tr>\n",
              "      <th>5</th>\n",
              "      <td>The #Taliban have not changed.They're continuing to train suicide bombers.#DoNotRecognizeTaliban …</td>\n",
              "      <td>LibertyForAll19</td>\n",
              "      <td>Milwaukee, Wisconsin.</td>\n",
              "      <td>[(Taliban, ORG), (They're, ORG)]</td>\n",
              "      <td>{'neg': 0.333, 'neu': 0.667, 'pos': 0.0, 'compound': -0.6705}</td>\n",
              "    </tr>\n",
              "    <tr>\n",
              "      <th>6</th>\n",
              "      <td>#Taliban displaced #Panjshir families forcedly and took their house &amp;amp; land. Local reporters say, Taliban took the residents…</td>\n",
              "      <td>awara_tara</td>\n",
              "      <td>USA, India</td>\n",
              "      <td>[(Taliban, PERSON), (Panjshir, MONEY), (Taliban, ORG)]</td>\n",
              "      <td>{'neg': 0.0, 'neu': 1.0, 'pos': 0.0, 'compound': 0.0}</td>\n",
              "    </tr>\n",
              "    <tr>\n",
              "      <th>7</th>\n",
              "      <td>With at least four women, including a pregnant mother, targeted and killed by #Taliban fighters, female ex-officers…</td>\n",
              "      <td>jftaveira1993</td>\n",
              "      <td>Portugal</td>\n",
              "      <td>[(at least four, CARDINAL), (Taliban, PERSON)]</td>\n",
              "      <td>{'neg': 0.289, 'neu': 0.711, 'pos': 0.0, 'compound': -0.6908}</td>\n",
              "    </tr>\n",
              "    <tr>\n",
              "      <th>8</th>\n",
              "      <td>According to #indianmedia reports, #PakistanArmy drones were seen supporting the #Taliban in #Afghanistan, but these photo…</td>\n",
              "      <td>GreenWa19260767</td>\n",
              "      <td></td>\n",
              "      <td>[(PakistanArmy, PERSON), (Taliban, ORG), (Afghanistan, GPE)]</td>\n",
              "      <td>{'neg': 0.0, 'neu': 0.885, 'pos': 0.115, 'compound': 0.2382}</td>\n",
              "    </tr>\n",
              "    <tr>\n",
              "      <th>9</th>\n",
              "      <td>I reckon last July someone Upgraded the firmware of Now a days he sings only #Taliban|i songs There is…</td>\n",
              "      <td>pratiksinghi</td>\n",
              "      <td>Mumbai</td>\n",
              "      <td>[(last July, DATE), (Taliban|i, PERSON)]</td>\n",
              "      <td>{'neg': 0.0, 'neu': 1.0, 'pos': 0.0, 'compound': 0.0}</td>\n",
              "    </tr>\n",
              "  </tbody>\n",
              "</table>\n",
              "</div>"
            ],
            "text/plain": [
              "                                                                                                                                text  ...                                                      sentiment\n",
              "0                 15 of AugustFall of #Kabul6 SeptemberFall of #Panjshir9/11New governanceIt's surprisingly #Taliban making history…  ...    {'neg': 0.0, 'neu': 0.845, 'pos': 0.155, 'compound': 0.296}\n",
              "1                         #ImamMahdi is staying in East Khorasan. He is Muhammad Qasim bin Abdul Karim. Everybody should read his's…  ...          {'neg': 0.0, 'neu': 1.0, 'pos': 0.0, 'compound': 0.0}\n",
              "2     “The #Taliban found it easy to walk into #Kabul, offering opportunities for groups like #Daesh to expand their influence,” sa…  ...   {'neg': 0.0, 'neu': 0.608, 'pos': 0.392, 'compound': 0.8519}\n",
              "3   #Taliban displaced #Panjshir families forcedly and took their house &amp; land. Local reporters say, Taliban took the residents…  ...          {'neg': 0.0, 'neu': 1.0, 'pos': 0.0, 'compound': 0.0}\n",
              "4               'Women can't be ministers, they should give birth', says #Taliban spokesperson #AfghanistanCrisis #Afghanistan http…  ...          {'neg': 0.0, 'neu': 1.0, 'pos': 0.0, 'compound': 0.0}\n",
              "5                                 The #Taliban have not changed.They're continuing to train suicide bombers.#DoNotRecognizeTaliban …  ...  {'neg': 0.333, 'neu': 0.667, 'pos': 0.0, 'compound': -0.6705}\n",
              "6   #Taliban displaced #Panjshir families forcedly and took their house &amp; land. Local reporters say, Taliban took the residents…  ...          {'neg': 0.0, 'neu': 1.0, 'pos': 0.0, 'compound': 0.0}\n",
              "7              With at least four women, including a pregnant mother, targeted and killed by #Taliban fighters, female ex-officers…   ...  {'neg': 0.289, 'neu': 0.711, 'pos': 0.0, 'compound': -0.6908}\n",
              "8        According to #indianmedia reports, #PakistanArmy drones were seen supporting the #Taliban in #Afghanistan, but these photo…  ...   {'neg': 0.0, 'neu': 0.885, 'pos': 0.115, 'compound': 0.2382}\n",
              "9                            I reckon last July someone Upgraded the firmware of Now a days he sings only #Taliban|i songs There is…  ...          {'neg': 0.0, 'neu': 1.0, 'pos': 0.0, 'compound': 0.0}\n",
              "\n",
              "[10 rows x 5 columns]"
            ]
          },
          "metadata": {},
          "execution_count": 53
        }
      ]
    },
    {
      "cell_type": "code",
      "metadata": {
        "id": "kZzprgGkziyO"
      },
      "source": [
        "#!pip install googlemaps\n",
        "#!pip install gmaps"
      ],
      "execution_count": 54,
      "outputs": []
    },
    {
      "cell_type": "code",
      "metadata": {
        "id": "EDh2qfDBeLWi"
      },
      "source": [
        "\n",
        "#import googlemaps\n",
        "#import gmaps\n",
        "#gmaps = googlemaps.Client(key=config.get('twitter','googleapikey'))\n",
        "#geocode_result = gmaps.geocode(tweet_df['location'][3])\n",
        "#print(geocode_result)\n",
        "#print(geocode_result[0]['formatted_address'])\n",
        "#print(geocode_result[0]['formatted_address'].split(\",\")[-1].strip())"
      ],
      "execution_count": 55,
      "outputs": []
    },
    {
      "cell_type": "markdown",
      "metadata": {
        "id": "V9zfROSe4chd"
      },
      "source": [
        "## Wordcloud\n",
        "\n",
        "---\n",
        "\n"
      ]
    },
    {
      "cell_type": "code",
      "metadata": {
        "id": "v05hLQD10TLn",
        "colab": {
          "base_uri": "https://localhost:8080/",
          "height": 296
        },
        "outputId": "22796683-7b7a-4222-ce40-54cceaca5f03"
      },
      "source": [
        "import tweepy\n",
        "from textblob import TextBlob\n",
        "from wordcloud import WordCloud\n",
        "import numpy as np\n",
        "import re\n",
        "import matplotlib.pyplot as plt\n",
        "plt.style.use('fivethirtyeight')\n",
        "\n",
        "#Plot the worldcloud\n",
        "allwords = ''.join([twts for twts in tweet_df['text']])\n",
        "wordcloud = WordCloud(width=500,height=300, random_state=21,  max_font_size=119).generate(allwords)\n",
        "plt.imshow(wordcloud, interpolation=\"bilinear\")"
      ],
      "execution_count": 56,
      "outputs": [
        {
          "output_type": "execute_result",
          "data": {
            "text/plain": [
              "<matplotlib.image.AxesImage at 0x7f34cc114050>"
            ]
          },
          "metadata": {},
          "execution_count": 56
        },
        {
          "output_type": "display_data",
          "data": {
            "image/png": "[encoded data removed]",
            "text/plain": [
              "<Figure size 432x288 with 1 Axes>"
            ]
          },
          "metadata": {}
        }
      ]
    },
    {
      "cell_type": "markdown",
      "metadata": {
        "id": "kudbmEPa6C1_"
      },
      "source": [
        "## Claculate Subjectivity and Polarity using TextBlob\n",
        "\n",
        "---\n",
        "\n"
      ]
    },
    {
      "cell_type": "code",
      "metadata": {
        "id": "-GK_C9teDR3H",
        "colab": {
          "base_uri": "https://localhost:8080/",
          "height": 374
        },
        "outputId": "0bd9a8b1-bfaa-4e1b-8862-fb6fe47dbb01"
      },
      "source": [
        "#Indent is important\n",
        "#Function for subjectivity\n",
        "def getSubjectivity(text):\n",
        "  return TextBlob(text).sentiment.subjectivity\n",
        "  #Function for polarity\n",
        "def getPolarity(text):\n",
        "  return TextBlob(text).sentiment.polarity\n",
        "  #Create two new columns\n",
        "tweet_df['Subjectivity'] = tweet_df['text'].apply(getSubjectivity)\n",
        "tweet_df['Polarity']= tweet_df['text'].apply(getPolarity)\n",
        " #Show new dataframe\n",
        "tweet_df.head()\n"
      ],
      "execution_count": 57,
      "outputs": [
        {
          "output_type": "execute_result",
          "data": {
            "text/html": [
              "<div>\n",
              "<style scoped>\n",
              "    .dataframe tbody tr th:only-of-type {\n",
              "        vertical-align: middle;\n",
              "    }\n",
              "\n",
              "    .dataframe tbody tr th {\n",
              "        vertical-align: top;\n",
              "    }\n",
              "\n",
              "    .dataframe thead th {\n",
              "        text-align: right;\n",
              "    }\n",
              "</style>\n",
              "<table border=\"1\" class=\"dataframe\">\n",
              "  <thead>\n",
              "    <tr style=\"text-align: right;\">\n",
              "      <th></th>\n",
              "      <th>text</th>\n",
              "      <th>user</th>\n",
              "      <th>location</th>\n",
              "      <th>entities</th>\n",
              "      <th>sentiment</th>\n",
              "      <th>Subjectivity</th>\n",
              "      <th>Polarity</th>\n",
              "    </tr>\n",
              "  </thead>\n",
              "  <tbody>\n",
              "    <tr>\n",
              "      <th>0</th>\n",
              "      <td>15 of AugustFall of #Kabul6 SeptemberFall of #Panjshir9/11New governanceIt's surprisingly #Taliban making history…</td>\n",
              "      <td>Salman_khan2233</td>\n",
              "      <td>Doha, Qatar</td>\n",
              "      <td>[(15, CARDINAL), (Taliban, ORG)]</td>\n",
              "      <td>{'neg': 0.0, 'neu': 0.845, 'pos': 0.155, 'compound': 0.296}</td>\n",
              "      <td>0.500000</td>\n",
              "      <td>0.700000</td>\n",
              "    </tr>\n",
              "    <tr>\n",
              "      <th>1</th>\n",
              "      <td>#ImamMahdi is staying in East Khorasan. He is Muhammad Qasim bin Abdul Karim. Everybody should read his's…</td>\n",
              "      <td>castle_three</td>\n",
              "      <td>Bangladesh</td>\n",
              "      <td>[(ImamMahdi, PERSON), (East Khorasan, GPE), (Muhammad Qasim, PERSON), (bin Abdul Karim, PERSON)]</td>\n",
              "      <td>{'neg': 0.0, 'neu': 1.0, 'pos': 0.0, 'compound': 0.0}</td>\n",
              "      <td>0.000000</td>\n",
              "      <td>0.000000</td>\n",
              "    </tr>\n",
              "    <tr>\n",
              "      <th>2</th>\n",
              "      <td>“The #Taliban found it easy to walk into #Kabul, offering opportunities for groups like #Daesh to expand their influence,” sa…</td>\n",
              "      <td>QamarRoshan2</td>\n",
              "      <td></td>\n",
              "      <td>[(Taliban, ORG), (Kabul, GPE), (Daesh, MONEY)]</td>\n",
              "      <td>{'neg': 0.0, 'neu': 0.608, 'pos': 0.392, 'compound': 0.8519}</td>\n",
              "      <td>0.833333</td>\n",
              "      <td>0.433333</td>\n",
              "    </tr>\n",
              "    <tr>\n",
              "      <th>3</th>\n",
              "      <td>#Taliban displaced #Panjshir families forcedly and took their house &amp;amp; land. Local reporters say, Taliban took the residents…</td>\n",
              "      <td>MalikHaanya</td>\n",
              "      <td>Panjshir</td>\n",
              "      <td>[(Taliban, PERSON), (Panjshir, MONEY), (Taliban, ORG)]</td>\n",
              "      <td>{'neg': 0.0, 'neu': 1.0, 'pos': 0.0, 'compound': 0.0}</td>\n",
              "      <td>0.100000</td>\n",
              "      <td>-0.150000</td>\n",
              "    </tr>\n",
              "    <tr>\n",
              "      <th>4</th>\n",
              "      <td>'Women can't be ministers, they should give birth', says #Taliban spokesperson #AfghanistanCrisis #Afghanistan http…</td>\n",
              "      <td>vishalkrchsia</td>\n",
              "      <td></td>\n",
              "      <td>[(Taliban, PERSON), (Afghanistan, GPE)]</td>\n",
              "      <td>{'neg': 0.0, 'neu': 1.0, 'pos': 0.0, 'compound': 0.0}</td>\n",
              "      <td>0.000000</td>\n",
              "      <td>0.000000</td>\n",
              "    </tr>\n",
              "  </tbody>\n",
              "</table>\n",
              "</div>"
            ],
            "text/plain": [
              "                                                                                                                                text  ...  Polarity\n",
              "0                 15 of AugustFall of #Kabul6 SeptemberFall of #Panjshir9/11New governanceIt's surprisingly #Taliban making history…  ...  0.700000\n",
              "1                         #ImamMahdi is staying in East Khorasan. He is Muhammad Qasim bin Abdul Karim. Everybody should read his's…  ...  0.000000\n",
              "2     “The #Taliban found it easy to walk into #Kabul, offering opportunities for groups like #Daesh to expand their influence,” sa…  ...  0.433333\n",
              "3   #Taliban displaced #Panjshir families forcedly and took their house &amp; land. Local reporters say, Taliban took the residents…  ... -0.150000\n",
              "4               'Women can't be ministers, they should give birth', says #Taliban spokesperson #AfghanistanCrisis #Afghanistan http…  ...  0.000000\n",
              "\n",
              "[5 rows x 7 columns]"
            ]
          },
          "metadata": {},
          "execution_count": 57
        }
      ]
    },
    {
      "cell_type": "markdown",
      "metadata": {
        "id": "3Zp1oAa26P4V"
      },
      "source": [
        "## Drop few cols\n",
        "\n",
        "---\n",
        "\n"
      ]
    },
    {
      "cell_type": "code",
      "metadata": {
        "id": "Q_Bo9myvFYqK",
        "colab": {
          "base_uri": "https://localhost:8080/",
          "height": 419
        },
        "outputId": "3aac27b0-b780-4d79-af7f-489577ab497d"
      },
      "source": [
        "tweet_df.drop(['user','location','entities','sentiment'],axis=1)"
      ],
      "execution_count": 58,
      "outputs": [
        {
          "output_type": "execute_result",
          "data": {
            "text/html": [
              "<div>\n",
              "<style scoped>\n",
              "    .dataframe tbody tr th:only-of-type {\n",
              "        vertical-align: middle;\n",
              "    }\n",
              "\n",
              "    .dataframe tbody tr th {\n",
              "        vertical-align: top;\n",
              "    }\n",
              "\n",
              "    .dataframe thead th {\n",
              "        text-align: right;\n",
              "    }\n",
              "</style>\n",
              "<table border=\"1\" class=\"dataframe\">\n",
              "  <thead>\n",
              "    <tr style=\"text-align: right;\">\n",
              "      <th></th>\n",
              "      <th>text</th>\n",
              "      <th>Subjectivity</th>\n",
              "      <th>Polarity</th>\n",
              "    </tr>\n",
              "  </thead>\n",
              "  <tbody>\n",
              "    <tr>\n",
              "      <th>0</th>\n",
              "      <td>15 of AugustFall of #Kabul6 SeptemberFall of #Panjshir9/11New governanceIt's surprisingly #Taliban making history…</td>\n",
              "      <td>0.500000</td>\n",
              "      <td>0.700000</td>\n",
              "    </tr>\n",
              "    <tr>\n",
              "      <th>1</th>\n",
              "      <td>#ImamMahdi is staying in East Khorasan. He is Muhammad Qasim bin Abdul Karim. Everybody should read his's…</td>\n",
              "      <td>0.000000</td>\n",
              "      <td>0.000000</td>\n",
              "    </tr>\n",
              "    <tr>\n",
              "      <th>2</th>\n",
              "      <td>“The #Taliban found it easy to walk into #Kabul, offering opportunities for groups like #Daesh to expand their influence,” sa…</td>\n",
              "      <td>0.833333</td>\n",
              "      <td>0.433333</td>\n",
              "    </tr>\n",
              "    <tr>\n",
              "      <th>3</th>\n",
              "      <td>#Taliban displaced #Panjshir families forcedly and took their house &amp;amp; land. Local reporters say, Taliban took the residents…</td>\n",
              "      <td>0.100000</td>\n",
              "      <td>-0.150000</td>\n",
              "    </tr>\n",
              "    <tr>\n",
              "      <th>4</th>\n",
              "      <td>'Women can't be ministers, they should give birth', says #Taliban spokesperson #AfghanistanCrisis #Afghanistan http…</td>\n",
              "      <td>0.000000</td>\n",
              "      <td>0.000000</td>\n",
              "    </tr>\n",
              "    <tr>\n",
              "      <th>...</th>\n",
              "      <td>...</td>\n",
              "      <td>...</td>\n",
              "      <td>...</td>\n",
              "    </tr>\n",
              "    <tr>\n",
              "      <th>95</th>\n",
              "      <td>#Pakistan had helped the #Taliban quell the resistance in #Panjshir, #Iran’s former president warned Islamabad that it will be…</td>\n",
              "      <td>0.000000</td>\n",
              "      <td>0.000000</td>\n",
              "    </tr>\n",
              "    <tr>\n",
              "      <th>96</th>\n",
              "      <td>A lot of emails from defence firms keen to let me know about their latest gizmos ahead of #DSEI2021 …and I can’t help wo…</td>\n",
              "      <td>0.900000</td>\n",
              "      <td>0.500000</td>\n",
              "    </tr>\n",
              "    <tr>\n",
              "      <th>97</th>\n",
              "      <td>Ahmadinejad also stressed that the handing over of power to #Taliban is part of a ‘satanic plot’ by the western powers led by t…</td>\n",
              "      <td>0.000000</td>\n",
              "      <td>0.000000</td>\n",
              "    </tr>\n",
              "    <tr>\n",
              "      <th>98</th>\n",
              "      <td>Brutal Video shows #Taliban beating women during peaceful protest in #Kabul #worldnbc</td>\n",
              "      <td>0.750000</td>\n",
              "      <td>-0.312500</td>\n",
              "    </tr>\n",
              "    <tr>\n",
              "      <th>99</th>\n",
              "      <td>#India, #Iran, #Pakistan, #Russia, #China and regional countries will face the consequences of the re-emergence of #Taliban.…</td>\n",
              "      <td>0.000000</td>\n",
              "      <td>0.000000</td>\n",
              "    </tr>\n",
              "  </tbody>\n",
              "</table>\n",
              "<p>100 rows × 3 columns</p>\n",
              "</div>"
            ],
            "text/plain": [
              "                                                                                                                                 text  ...  Polarity\n",
              "0                  15 of AugustFall of #Kabul6 SeptemberFall of #Panjshir9/11New governanceIt's surprisingly #Taliban making history…  ...  0.700000\n",
              "1                          #ImamMahdi is staying in East Khorasan. He is Muhammad Qasim bin Abdul Karim. Everybody should read his's…  ...  0.000000\n",
              "2      “The #Taliban found it easy to walk into #Kabul, offering opportunities for groups like #Daesh to expand their influence,” sa…  ...  0.433333\n",
              "3    #Taliban displaced #Panjshir families forcedly and took their house &amp; land. Local reporters say, Taliban took the residents…  ... -0.150000\n",
              "4                'Women can't be ministers, they should give birth', says #Taliban spokesperson #AfghanistanCrisis #Afghanistan http…  ...  0.000000\n",
              "..                                                                                                                                ...  ...       ...\n",
              "95    #Pakistan had helped the #Taliban quell the resistance in #Panjshir, #Iran’s former president warned Islamabad that it will be…  ...  0.000000\n",
              "96          A lot of emails from defence firms keen to let me know about their latest gizmos ahead of #DSEI2021 …and I can’t help wo…  ...  0.500000\n",
              "97   Ahmadinejad also stressed that the handing over of power to #Taliban is part of a ‘satanic plot’ by the western powers led by t…  ...  0.000000\n",
              "98                                             Brutal Video shows #Taliban beating women during peaceful protest in #Kabul #worldnbc   ... -0.312500\n",
              "99      #India, #Iran, #Pakistan, #Russia, #China and regional countries will face the consequences of the re-emergence of #Taliban.…  ...  0.000000\n",
              "\n",
              "[100 rows x 3 columns]"
            ]
          },
          "metadata": {},
          "execution_count": 58
        }
      ]
    },
    {
      "cell_type": "markdown",
      "metadata": {
        "id": "ywwkC_lK6V_9"
      },
      "source": [
        "## Function for negative, neutral and positive\n",
        "\n",
        "---\n",
        "\n"
      ]
    },
    {
      "cell_type": "code",
      "metadata": {
        "id": "WJoy6KU4Ecpa",
        "colab": {
          "base_uri": "https://localhost:8080/",
          "height": 776
        },
        "outputId": "16e6d394-9497-40a0-c1c2-1f15420fd0b6"
      },
      "source": [
        "\n",
        "def getAnalysis(score):\n",
        "  if score<0:\n",
        "    return 'Negative'\n",
        "  elif score ==0:\n",
        "    return 'Neural'\n",
        "  else:\n",
        "    return 'Positive'\n",
        "tweet_df['Analysis']=tweet_df['Polarity'].apply(getAnalysis)\n",
        "\n",
        "\n",
        "tweet_df"
      ],
      "execution_count": 59,
      "outputs": [
        {
          "output_type": "execute_result",
          "data": {
            "text/html": [
              "<div>\n",
              "<style scoped>\n",
              "    .dataframe tbody tr th:only-of-type {\n",
              "        vertical-align: middle;\n",
              "    }\n",
              "\n",
              "    .dataframe tbody tr th {\n",
              "        vertical-align: top;\n",
              "    }\n",
              "\n",
              "    .dataframe thead th {\n",
              "        text-align: right;\n",
              "    }\n",
              "</style>\n",
              "<table border=\"1\" class=\"dataframe\">\n",
              "  <thead>\n",
              "    <tr style=\"text-align: right;\">\n",
              "      <th></th>\n",
              "      <th>text</th>\n",
              "      <th>user</th>\n",
              "      <th>location</th>\n",
              "      <th>entities</th>\n",
              "      <th>sentiment</th>\n",
              "      <th>Subjectivity</th>\n",
              "      <th>Polarity</th>\n",
              "      <th>Analysis</th>\n",
              "    </tr>\n",
              "  </thead>\n",
              "  <tbody>\n",
              "    <tr>\n",
              "      <th>0</th>\n",
              "      <td>15 of AugustFall of #Kabul6 SeptemberFall of #Panjshir9/11New governanceIt's surprisingly #Taliban making history…</td>\n",
              "      <td>Salman_khan2233</td>\n",
              "      <td>Doha, Qatar</td>\n",
              "      <td>[(15, CARDINAL), (Taliban, ORG)]</td>\n",
              "      <td>{'neg': 0.0, 'neu': 0.845, 'pos': 0.155, 'compound': 0.296}</td>\n",
              "      <td>0.500000</td>\n",
              "      <td>0.700000</td>\n",
              "      <td>Positive</td>\n",
              "    </tr>\n",
              "    <tr>\n",
              "      <th>1</th>\n",
              "      <td>#ImamMahdi is staying in East Khorasan. He is Muhammad Qasim bin Abdul Karim. Everybody should read his's…</td>\n",
              "      <td>castle_three</td>\n",
              "      <td>Bangladesh</td>\n",
              "      <td>[(ImamMahdi, PERSON), (East Khorasan, GPE), (Muhammad Qasim, PERSON), (bin Abdul Karim, PERSON)]</td>\n",
              "      <td>{'neg': 0.0, 'neu': 1.0, 'pos': 0.0, 'compound': 0.0}</td>\n",
              "      <td>0.000000</td>\n",
              "      <td>0.000000</td>\n",
              "      <td>Neural</td>\n",
              "    </tr>\n",
              "    <tr>\n",
              "      <th>2</th>\n",
              "      <td>“The #Taliban found it easy to walk into #Kabul, offering opportunities for groups like #Daesh to expand their influence,” sa…</td>\n",
              "      <td>QamarRoshan2</td>\n",
              "      <td></td>\n",
              "      <td>[(Taliban, ORG), (Kabul, GPE), (Daesh, MONEY)]</td>\n",
              "      <td>{'neg': 0.0, 'neu': 0.608, 'pos': 0.392, 'compound': 0.8519}</td>\n",
              "      <td>0.833333</td>\n",
              "      <td>0.433333</td>\n",
              "      <td>Positive</td>\n",
              "    </tr>\n",
              "    <tr>\n",
              "      <th>3</th>\n",
              "      <td>#Taliban displaced #Panjshir families forcedly and took their house &amp;amp; land. Local reporters say, Taliban took the residents…</td>\n",
              "      <td>MalikHaanya</td>\n",
              "      <td>Panjshir</td>\n",
              "      <td>[(Taliban, PERSON), (Panjshir, MONEY), (Taliban, ORG)]</td>\n",
              "      <td>{'neg': 0.0, 'neu': 1.0, 'pos': 0.0, 'compound': 0.0}</td>\n",
              "      <td>0.100000</td>\n",
              "      <td>-0.150000</td>\n",
              "      <td>Negative</td>\n",
              "    </tr>\n",
              "    <tr>\n",
              "      <th>4</th>\n",
              "      <td>'Women can't be ministers, they should give birth', says #Taliban spokesperson #AfghanistanCrisis #Afghanistan http…</td>\n",
              "      <td>vishalkrchsia</td>\n",
              "      <td></td>\n",
              "      <td>[(Taliban, PERSON), (Afghanistan, GPE)]</td>\n",
              "      <td>{'neg': 0.0, 'neu': 1.0, 'pos': 0.0, 'compound': 0.0}</td>\n",
              "      <td>0.000000</td>\n",
              "      <td>0.000000</td>\n",
              "      <td>Neural</td>\n",
              "    </tr>\n",
              "    <tr>\n",
              "      <th>...</th>\n",
              "      <td>...</td>\n",
              "      <td>...</td>\n",
              "      <td>...</td>\n",
              "      <td>...</td>\n",
              "      <td>...</td>\n",
              "      <td>...</td>\n",
              "      <td>...</td>\n",
              "      <td>...</td>\n",
              "    </tr>\n",
              "    <tr>\n",
              "      <th>95</th>\n",
              "      <td>#Pakistan had helped the #Taliban quell the resistance in #Panjshir, #Iran’s former president warned Islamabad that it will be…</td>\n",
              "      <td>ManjuHerry</td>\n",
              "      <td></td>\n",
              "      <td>[(Pakistan, GPE), (Taliban, ORG), (Panjshir, MONEY), (Iran, GPE), (Islamabad, GPE)]</td>\n",
              "      <td>{'neg': 0.104, 'neu': 0.896, 'pos': 0.0, 'compound': -0.2732}</td>\n",
              "      <td>0.000000</td>\n",
              "      <td>0.000000</td>\n",
              "      <td>Neural</td>\n",
              "    </tr>\n",
              "    <tr>\n",
              "      <th>96</th>\n",
              "      <td>A lot of emails from defence firms keen to let me know about their latest gizmos ahead of #DSEI2021 …and I can’t help wo…</td>\n",
              "      <td>JonathanSlayton</td>\n",
              "      <td>England</td>\n",
              "      <td>[(DSEI2021, MONEY)]</td>\n",
              "      <td>{'neg': 0.0, 'neu': 0.742, 'pos': 0.258, 'compound': 0.6808}</td>\n",
              "      <td>0.900000</td>\n",
              "      <td>0.500000</td>\n",
              "      <td>Positive</td>\n",
              "    </tr>\n",
              "    <tr>\n",
              "      <th>97</th>\n",
              "      <td>Ahmadinejad also stressed that the handing over of power to #Taliban is part of a ‘satanic plot’ by the western powers led by t…</td>\n",
              "      <td>ManjuHerry</td>\n",
              "      <td></td>\n",
              "      <td>[(Ahmadinejad, PERSON), (Taliban, PERSON)]</td>\n",
              "      <td>{'neg': 0.098, 'neu': 0.902, 'pos': 0.0, 'compound': -0.34}</td>\n",
              "      <td>0.000000</td>\n",
              "      <td>0.000000</td>\n",
              "      <td>Neural</td>\n",
              "    </tr>\n",
              "    <tr>\n",
              "      <th>98</th>\n",
              "      <td>Brutal Video shows #Taliban beating women during peaceful protest in #Kabul #worldnbc</td>\n",
              "      <td>ve10ve</td>\n",
              "      <td>European Union</td>\n",
              "      <td>[(Brutal Video, ORG), (Taliban, ORG)]</td>\n",
              "      <td>{'neg': 0.448, 'neu': 0.394, 'pos': 0.158, 'compound': -0.7096}</td>\n",
              "      <td>0.750000</td>\n",
              "      <td>-0.312500</td>\n",
              "      <td>Negative</td>\n",
              "    </tr>\n",
              "    <tr>\n",
              "      <th>99</th>\n",
              "      <td>#India, #Iran, #Pakistan, #Russia, #China and regional countries will face the consequences of the re-emergence of #Taliban.…</td>\n",
              "      <td>ManjuHerry</td>\n",
              "      <td></td>\n",
              "      <td>[(India, GPE), (Iran, GPE), (Pakistan, GPE), (Russia, GPE), (China, GPE), (Taliban, PERSON)]</td>\n",
              "      <td>{'neg': 0.0, 'neu': 1.0, 'pos': 0.0, 'compound': 0.0}</td>\n",
              "      <td>0.000000</td>\n",
              "      <td>0.000000</td>\n",
              "      <td>Neural</td>\n",
              "    </tr>\n",
              "  </tbody>\n",
              "</table>\n",
              "<p>100 rows × 8 columns</p>\n",
              "</div>"
            ],
            "text/plain": [
              "                                                                                                                                 text  ...  Analysis\n",
              "0                  15 of AugustFall of #Kabul6 SeptemberFall of #Panjshir9/11New governanceIt's surprisingly #Taliban making history…  ...  Positive\n",
              "1                          #ImamMahdi is staying in East Khorasan. He is Muhammad Qasim bin Abdul Karim. Everybody should read his's…  ...    Neural\n",
              "2      “The #Taliban found it easy to walk into #Kabul, offering opportunities for groups like #Daesh to expand their influence,” sa…  ...  Positive\n",
              "3    #Taliban displaced #Panjshir families forcedly and took their house &amp; land. Local reporters say, Taliban took the residents…  ...  Negative\n",
              "4                'Women can't be ministers, they should give birth', says #Taliban spokesperson #AfghanistanCrisis #Afghanistan http…  ...    Neural\n",
              "..                                                                                                                                ...  ...       ...\n",
              "95    #Pakistan had helped the #Taliban quell the resistance in #Panjshir, #Iran’s former president warned Islamabad that it will be…  ...    Neural\n",
              "96          A lot of emails from defence firms keen to let me know about their latest gizmos ahead of #DSEI2021 …and I can’t help wo…  ...  Positive\n",
              "97   Ahmadinejad also stressed that the handing over of power to #Taliban is part of a ‘satanic plot’ by the western powers led by t…  ...    Neural\n",
              "98                                             Brutal Video shows #Taliban beating women during peaceful protest in #Kabul #worldnbc   ...  Negative\n",
              "99      #India, #Iran, #Pakistan, #Russia, #China and regional countries will face the consequences of the re-emergence of #Taliban.…  ...    Neural\n",
              "\n",
              "[100 rows x 8 columns]"
            ]
          },
          "metadata": {},
          "execution_count": 59
        }
      ]
    },
    {
      "cell_type": "markdown",
      "metadata": {
        "id": "qyL2wy0O6Z6m"
      },
      "source": [
        "## Plot polarity and Subjectivity\n",
        "\n",
        "---\n",
        "\n"
      ]
    },
    {
      "cell_type": "code",
      "metadata": {
        "id": "_2EGuTfxFoc9",
        "colab": {
          "base_uri": "https://localhost:8080/",
          "height": 441
        },
        "outputId": "abc5d4a8-cca1-4648-b4e7-3bf7fb3762f5"
      },
      "source": [
        "\n",
        "plt.figure(figsize=(8,6))\n",
        "for i in range(0, tweet_df.shape[0]):\n",
        "    plt.scatter(tweet_df['Polarity'][i], tweet_df['Subjectivity'][i],color='Blue')\n",
        "plt.title('Sentiment Analysis')\n",
        "plt.xlabel('Polarity')\n",
        "plt.ylabel('Subjectivity')\n",
        "plt.show()"
      ],
      "execution_count": 60,
      "outputs": [
        {
          "output_type": "display_data",
          "data": {
            "image/png": "[encoded data removed]",
            "text/plain": [
              "<Figure size 576x432 with 1 Axes>"
            ]
          },
          "metadata": {}
        }
      ]
    },
    {
      "cell_type": "markdown",
      "metadata": {
        "id": "WaxaAlvN6er4"
      },
      "source": [
        "## Percentage of negative messages\n",
        "\n",
        "---\n",
        "\n"
      ]
    },
    {
      "cell_type": "code",
      "metadata": {
        "id": "dxfqwuyIGJzP",
        "colab": {
          "base_uri": "https://localhost:8080/"
        },
        "outputId": "d87273e5-1eee-4883-e715-ed167ef9e9ea"
      },
      "source": [
        "nmsgs = tweet_df[tweet_df.Analysis == 'Negative']\n",
        "nmsgs = nmsgs['text']\n",
        "#tweets\n",
        "round((nmsgs.shape[0]/tweet_df.shape[0])*100,1)"
      ],
      "execution_count": 61,
      "outputs": [
        {
          "output_type": "execute_result",
          "data": {
            "text/plain": [
              "20.0"
            ]
          },
          "metadata": {},
          "execution_count": 61
        }
      ]
    },
    {
      "cell_type": "markdown",
      "metadata": {
        "id": "2BDP4i4h6jzu"
      },
      "source": [
        "## Percentage of positive messages\n",
        "\n",
        "---\n",
        "\n"
      ]
    },
    {
      "cell_type": "code",
      "metadata": {
        "id": "GATp3re_GZC2",
        "colab": {
          "base_uri": "https://localhost:8080/"
        },
        "outputId": "0b758e59-f20c-485f-ba9d-c2da71ff9dce"
      },
      "source": [
        "\n",
        "pmsgs=tweet_df[tweet_df.Analysis == 'Positive']\n",
        "pmsgs = pmsgs['text']\n",
        "#ptweets\n",
        "round((pmsgs.shape[0]/tweet_df.shape[0])*100,1)"
      ],
      "execution_count": 62,
      "outputs": [
        {
          "output_type": "execute_result",
          "data": {
            "text/plain": [
              "30.0"
            ]
          },
          "metadata": {},
          "execution_count": 62
        }
      ]
    },
    {
      "cell_type": "markdown",
      "metadata": {
        "id": "P0Iv3KQ16pXM"
      },
      "source": [
        "## Show the value counts\n",
        "\n",
        "---\n",
        "\n"
      ]
    },
    {
      "cell_type": "code",
      "metadata": {
        "id": "WUxQdASmGoFW",
        "colab": {
          "base_uri": "https://localhost:8080/"
        },
        "outputId": "5030484a-be88-478a-e70d-bbdc4fe87fcd"
      },
      "source": [
        "tweet_df['Analysis'].value_counts()"
      ],
      "execution_count": 63,
      "outputs": [
        {
          "output_type": "execute_result",
          "data": {
            "text/plain": [
              "Neural      50\n",
              "Positive    30\n",
              "Negative    20\n",
              "Name: Analysis, dtype: int64"
            ]
          },
          "metadata": {},
          "execution_count": 63
        }
      ]
    },
    {
      "cell_type": "markdown",
      "metadata": {
        "id": "DQRav4lh6uj_"
      },
      "source": [
        "## Plot and visualize the counts\n",
        "\n",
        "---\n",
        "\n"
      ]
    },
    {
      "cell_type": "code",
      "metadata": {
        "id": "ZAzTsVAPGx0G",
        "colab": {
          "base_uri": "https://localhost:8080/",
          "height": 374
        },
        "outputId": "c71a1c35-625f-49ba-83c6-0301b09e50d1"
      },
      "source": [
        "plt.title('Sentiment Analysis')\n",
        "plt.xlabel('Sentiment')\n",
        "plt.ylabel('Counts')\n",
        "tweet_df['Analysis'].value_counts().plot(kind='bar')\n",
        "plt.show()"
      ],
      "execution_count": 64,
      "outputs": [
        {
          "output_type": "display_data",
          "data": {
            "image/png": "[encoded data removed]",
            "text/plain": [
              "<Figure size 432x288 with 1 Axes>"
            ]
          },
          "metadata": {}
        }
      ]
    },
    {
      "cell_type": "code",
      "metadata": {
        "id": "FIeZS_2yG3U9"
      },
      "source": [
        ""
      ],
      "execution_count": 64,
      "outputs": []
    }
  ]
}
