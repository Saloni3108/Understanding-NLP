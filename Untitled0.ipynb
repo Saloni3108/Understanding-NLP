{
  "nbformat": 4,
  "nbformat_minor": 0,
  "metadata": {
    "colab": {
      "name": "Untitled0.ipynb",
      "provenance": []
    },
    "kernelspec": {
      "name": "python3",
      "display_name": "Python 3"
    },
    "language_info": {
      "name": "python"
    }
  },
  "cells": [
    {
      "cell_type": "markdown",
      "metadata": {
        "id": "3CiCRICnooac"
      },
      "source": [
        "# NLP Package -  NLTK"
      ]
    },
    {
      "cell_type": "markdown",
      "metadata": {
        "id": "1APYHnWXpHdU"
      },
      "source": [
        "1. NLTK is a NLP powerful package which consist of coomon algorithms used for cleaning and normalising the text - Tokenization, Stop Words, Stemming, Lemmatization and Entity Detection.\n",
        "2. After cleaning the data using NLTK and its inbuilt trained model - punkt, there is a classification performed for names (male or female). \\\n",
        "3. Also regression is performed for text mining for hotel reviews."
      ]
    },
    {
      "cell_type": "markdown",
      "metadata": {
        "id": "uFfqVJOawwFf"
      },
      "source": [
        "# 1. NLTK Pre Processing"
      ]
    },
    {
      "cell_type": "markdown",
      "metadata": {
        "id": "HTsNhv0Nw2kO"
      },
      "source": [
        "Since the text is very ambiguous, it needs a proper cleaning and normalization before training it to the model. The mornalization of text invloves following steps as mentioned below:\n",
        "1. Tokenization \n",
        "a) Senetence Tokenization\n",
        "b) Word Tokenization\n",
        "2. Stop Words\n",
        "3. Stemming\n",
        "4. Lemmatization\n",
        "5. POS recognition\n",
        "6. Entity detection"
      ]
    },
    {
      "cell_type": "code",
      "metadata": {
        "colab": {
          "base_uri": "https://localhost:8080/"
        },
        "id": "apQG8zyLoq9J",
        "outputId": "2180312f-8db4-4870-d324-b11335e8282a"
      },
      "source": [
        "!pip install nltk"
      ],
      "execution_count": 37,
      "outputs": [
        {
          "output_type": "stream",
          "name": "stdout",
          "text": [
            "Requirement already satisfied: nltk in /usr/local/lib/python3.7/dist-packages (3.2.5)\n",
            "Requirement already satisfied: six in /usr/local/lib/python3.7/dist-packages (from nltk) (1.15.0)\n"
          ]
        }
      ]
    },
    {
      "cell_type": "code",
      "metadata": {
        "id": "AjFeLPEjpyM-"
      },
      "source": [
        "import nltk"
      ],
      "execution_count": 38,
      "outputs": []
    },
    {
      "cell_type": "markdown",
      "metadata": {
        "id": "nLwv83fWqhMj"
      },
      "source": [
        "# Tokenization"
      ]
    },
    {
      "cell_type": "markdown",
      "metadata": {
        "id": "jN62kI3sqrNA"
      },
      "source": [
        "It is the first and crucial step in text preprocessing. The breaking down of text into meaningful words is called word tokenization while breaking down of text into meaningful sentence is called sentence tokenization"
      ]
    },
    {
      "cell_type": "markdown",
      "metadata": {
        "id": "8HNmWSFbrAdw"
      },
      "source": [
        "## Sentence Tokenization"
      ]
    },
    {
      "cell_type": "code",
      "metadata": {
        "colab": {
          "base_uri": "https://localhost:8080/"
        },
        "id": "1HnaOnZvp26V",
        "outputId": "6e224646-2f95-47a4-ac2c-dc16a2aea2b6"
      },
      "source": [
        "nltk.download('punkt')\n",
        "from nltk.tokenize import sent_tokenize\n",
        "text=\"\"\"Hello Mr. Shaw, how are you doing today? The weather is great, and city is awesome.\n",
        "The sky is pinkish-blue. You shouldn't eat bad food\"\"\"\n",
        "tokenized_text=sent_tokenize(text)\n",
        "print(tokenized_text)"
      ],
      "execution_count": 39,
      "outputs": [
        {
          "output_type": "stream",
          "name": "stdout",
          "text": [
            "[nltk_data] Downloading package punkt to /root/nltk_data...\n",
            "[nltk_data]   Package punkt is already up-to-date!\n",
            "['Hello Mr. Shaw, how are you doing today?', 'The weather is great, and city is awesome.', 'The sky is pinkish-blue.', \"You shouldn't eat bad food\"]\n"
          ]
        }
      ]
    },
    {
      "cell_type": "markdown",
      "metadata": {
        "id": "tTV5DbenrTFg"
      },
      "source": [
        "## Word Tokenization"
      ]
    },
    {
      "cell_type": "code",
      "metadata": {
        "colab": {
          "base_uri": "https://localhost:8080/"
        },
        "id": "Dh_D5oucrNdf",
        "outputId": "8143c4fc-53ff-4b06-c888-840a57fcfbae"
      },
      "source": [
        "from nltk.tokenize import word_tokenize\n",
        "tokenized_word=word_tokenize(text)\n",
        "print(tokenized_word)"
      ],
      "execution_count": 40,
      "outputs": [
        {
          "output_type": "stream",
          "name": "stdout",
          "text": [
            "['Hello', 'Mr.', 'Shaw', ',', 'how', 'are', 'you', 'doing', 'today', '?', 'The', 'weather', 'is', 'great', ',', 'and', 'city', 'is', 'awesome', '.', 'The', 'sky', 'is', 'pinkish-blue', '.', 'You', 'should', \"n't\", 'eat', 'bad', 'food']\n"
          ]
        }
      ]
    },
    {
      "cell_type": "markdown",
      "metadata": {
        "id": "dOZ4kvb3rbFI"
      },
      "source": [
        "## Frequency Distribution of Word Tokens"
      ]
    },
    {
      "cell_type": "code",
      "metadata": {
        "colab": {
          "base_uri": "https://localhost:8080/"
        },
        "id": "3uyDGJHCrXg1",
        "outputId": "10585106-3789-4034-8430-f9a34c7985b7"
      },
      "source": [
        "#Frequency Distribution\n",
        "## 26 samples means words in ''\n",
        "## 31 outcomes means all in '' including ','\n",
        "from nltk.probability import FreqDist\n",
        "fdist = FreqDist(tokenized_word)\n",
        "print(fdist)"
      ],
      "execution_count": 41,
      "outputs": [
        {
          "output_type": "stream",
          "name": "stdout",
          "text": [
            "<FreqDist with 26 samples and 31 outcomes>\n"
          ]
        }
      ]
    },
    {
      "cell_type": "code",
      "metadata": {
        "colab": {
          "base_uri": "https://localhost:8080/"
        },
        "id": "FyIKBUKLrg4e",
        "outputId": "466451c0-96ac-4e70-f004-942c57daf989"
      },
      "source": [
        "fdist.most_common(6)"
      ],
      "execution_count": 42,
      "outputs": [
        {
          "output_type": "execute_result",
          "data": {
            "text/plain": [
              "[('is', 3), (',', 2), ('The', 2), ('.', 2), ('Hello', 1), ('Mr.', 1)]"
            ]
          },
          "metadata": {},
          "execution_count": 42
        }
      ]
    },
    {
      "cell_type": "code",
      "metadata": {
        "colab": {
          "base_uri": "https://localhost:8080/",
          "height": 330
        },
        "id": "w94N5n14rjai",
        "outputId": "dead768e-4f13-488d-d3e5-ffebb15ab988"
      },
      "source": [
        "# Frequency Distribution Plot\n",
        "import matplotlib.pyplot as plt\n",
        "fdist.plot(30,cumulative=False)\n",
        "plt.show()"
      ],
      "execution_count": 43,
      "outputs": [
        {
          "output_type": "display_data",
          "data": {
            "image/png": "[encoded data removed]",
            "text/plain": [
              "<Figure size 432x288 with 1 Axes>"
            ]
          },
          "metadata": {
            "needs_background": "light"
          }
        }
      ]
    },
    {
      "cell_type": "markdown",
      "metadata": {
        "id": "jmWM81WTrqoz"
      },
      "source": [
        "## StopWords"
      ]
    },
    {
      "cell_type": "markdown",
      "metadata": {
        "id": "Zdo3UELZryX0"
      },
      "source": [
        "Stopwords considered as noise in the text. Text may contain stop words such as is, am, are, this, a, an, the, etc.\n",
        "\n",
        "In NLTK for removing stopwords, you need to create a list of stopwords and filter out your list of tokens from these words."
      ]
    },
    {
      "cell_type": "code",
      "metadata": {
        "colab": {
          "base_uri": "https://localhost:8080/"
        },
        "id": "2_5KzxtqrlNq",
        "outputId": "275894f2-73c2-4a5d-a4c4-3a4b356f85d2"
      },
      "source": [
        "nltk.download('stopwords')\n",
        "from nltk.corpus import stopwords\n",
        "stop_words=set(stopwords.words(\"english\"))\n",
        "print(stop_words)"
      ],
      "execution_count": 44,
      "outputs": [
        {
          "output_type": "stream",
          "name": "stdout",
          "text": [
            "[nltk_data] Downloading package stopwords to /root/nltk_data...\n",
            "[nltk_data]   Package stopwords is already up-to-date!\n",
            "{'weren', 'in', 'into', 'wouldn', \"don't\", 'or', 'too', 'it', 'again', \"mightn't\", \"that'll\", 'over', 'were', 'been', 'this', 'after', 'about', 'these', 'all', 'being', 'nor', \"weren't\", 'further', 'of', 'don', 'hadn', 'because', 'did', \"you've\", \"you'd\", 'off', 'we', \"haven't\", 'ours', \"hasn't\", 'their', 'with', 'same', 'is', \"wouldn't\", \"aren't\", 'having', \"wasn't\", 'himself', 'does', 'and', 'so', \"you'll\", 'haven', 'down', 'd', 'themselves', \"won't\", 'those', \"it's\", 'shan', 'such', 'm', 'has', 'won', 'very', 'had', \"should've\", 'whom', 'doing', 'no', 'other', 'which', 'yourselves', 'll', 'now', 'herself', 'from', 'when', 'ourselves', 'doesn', 'who', 'was', 'hers', 'by', \"you're\", 'do', 'then', \"mustn't\", 'mustn', 'to', 'ma', 'you', \"she's\", 'during', \"couldn't\", 'why', 'our', 'itself', 'be', 'a', 've', 'my', 'any', 'shouldn', 'wasn', 'if', 'yours', 'under', 'only', 't', \"hadn't\", 'through', 'are', \"didn't\", 'some', 'until', 'its', 'yourself', 'at', 'have', 'while', 'than', 'the', 'both', 'should', 'before', 'aren', 'as', 'for', 'that', 'i', 'me', 'how', 'she', 'your', 'above', 'out', 'o', 'theirs', 'each', \"shan't\", 'will', \"doesn't\", \"isn't\", 'her', 'didn', 'against', 'y', 'but', 're', 'just', 'up', 'what', 'ain', 'on', 'own', 'they', 'between', 'here', 'mightn', 'am', 'few', 's', 'hasn', 'once', 'an', \"shouldn't\", 'more', 'myself', 'most', 'him', 'below', 'he', 'them', 'can', 'needn', \"needn't\", 'not', 'there', 'where', 'couldn', 'his', 'isn'}\n"
          ]
        }
      ]
    },
    {
      "cell_type": "markdown",
      "metadata": {
        "id": "AA8uOdC1r77u"
      },
      "source": [
        "# Stemming and Lemmatization\n",
        "\n",
        "1. Stemming is faster as it chops the data without understanding the context of text, while lemmatization performs linguistically correct chopping of data with more accurate context.\n",
        "\n",
        "2. Accuracy is more in lemmatization as stemming\n",
        "\n",
        "3. Studies - Studi (Stemming) , Study (Lemmatization)"
      ]
    },
    {
      "cell_type": "markdown",
      "metadata": {
        "id": "to9ZAlzdsm12"
      },
      "source": [
        "## Stemming"
      ]
    },
    {
      "cell_type": "code",
      "metadata": {
        "colab": {
          "base_uri": "https://localhost:8080/"
        },
        "id": "Db87Ta5Xr3hw",
        "outputId": "ac8df7d8-1bf7-4aa3-a4d7-69858c86b629"
      },
      "source": [
        "from nltk.stem import PorterStemmer \n",
        "from nltk.tokenize import word_tokenize \n",
        "   \n",
        "ps = PorterStemmer() \n",
        "   \n",
        "sentence = \"Programers program with programing languages\"\n",
        "\n",
        "words = word_tokenize(sentence) \n",
        "   \n",
        "for w in words: \n",
        "    print(w, \" : \", ps.stem(w)) "
      ],
      "execution_count": 45,
      "outputs": [
        {
          "output_type": "stream",
          "name": "stdout",
          "text": [
            "Programers  :  program\n",
            "program  :  program\n",
            "with  :  with\n",
            "programing  :  program\n",
            "languages  :  languag\n"
          ]
        }
      ]
    },
    {
      "cell_type": "markdown",
      "metadata": {
        "id": "esKfcoHRspPe"
      },
      "source": [
        "## Lemmatization"
      ]
    },
    {
      "cell_type": "code",
      "metadata": {
        "colab": {
          "base_uri": "https://localhost:8080/"
        },
        "id": "HMluohw2sgt3",
        "outputId": "2db17dbc-839e-441d-c32f-aaa9b58aff5d"
      },
      "source": [
        "nltk.download('wordnet')\n",
        "from nltk.stem import WordNetLemmatizer \n",
        "  \n",
        "lemmatizer = WordNetLemmatizer() \n",
        "\n",
        "print(\"rocks :\", lemmatizer.lemmatize(\"rocks\")) \n",
        "print(\"corpora :\", lemmatizer.lemmatize(\"corpora\")) \n",
        "  \n",
        "# a denotes adjective in \"pos\" \n",
        "print(\"better :\", lemmatizer.lemmatize(\"better\", pos =\"a\"))\n",
        "print(\"worst :\", lemmatizer.lemmatize(\"worst\", pos =\"a\")) "
      ],
      "execution_count": 46,
      "outputs": [
        {
          "output_type": "stream",
          "name": "stdout",
          "text": [
            "[nltk_data] Downloading package wordnet to /root/nltk_data...\n",
            "[nltk_data]   Package wordnet is already up-to-date!\n",
            "rocks : rock\n",
            "corpora : corpus\n",
            "better : good\n",
            "worst : bad\n"
          ]
        }
      ]
    },
    {
      "cell_type": "markdown",
      "metadata": {
        "id": "W3X_5w2bs5RT"
      },
      "source": [
        "#2.Classification using Naive Bayes for inbuilt text data of names for male and female"
      ]
    },
    {
      "cell_type": "markdown",
      "metadata": {
        "id": "ALbP4f3QtL_P"
      },
      "source": [
        "There are two files containing names for male and females seperately. We will train the model using nltk rather than sklearn here. The name corpus contain a total of around 8k names"
      ]
    },
    {
      "cell_type": "code",
      "metadata": {
        "colab": {
          "base_uri": "https://localhost:8080/"
        },
        "id": "1ZwbflUHskln",
        "outputId": "7f5c4615-f5a7-4b86-8d85-5ddef997de5e"
      },
      "source": [
        "nltk.download('names')\n",
        "from nltk.corpus import names \n",
        "import random \n",
        "from nltk import NaiveBayesClassifier\n",
        "from nltk import classify "
      ],
      "execution_count": 47,
      "outputs": [
        {
          "output_type": "stream",
          "name": "stdout",
          "text": [
            "[nltk_data] Downloading package names to /root/nltk_data...\n",
            "[nltk_data]   Package names is already up-to-date!\n"
          ]
        }
      ]
    },
    {
      "cell_type": "code",
      "metadata": {
        "colab": {
          "base_uri": "https://localhost:8080/"
        },
        "id": "7gvGgSKFtifw",
        "outputId": "adb60b4b-87b8-48cb-ea39-88a99d68de14"
      },
      "source": [
        "print (names.fileids()) "
      ],
      "execution_count": 48,
      "outputs": [
        {
          "output_type": "stream",
          "name": "stdout",
          "text": [
            "['female.txt', 'male.txt']\n"
          ]
        }
      ]
    },
    {
      "cell_type": "code",
      "metadata": {
        "id": "lrRFEZZmuVt5"
      },
      "source": [
        "male_names = names.words('male.txt')\n",
        "female_names = names.words('female.txt')"
      ],
      "execution_count": 49,
      "outputs": []
    },
    {
      "cell_type": "markdown",
      "metadata": {
        "id": "TmCgIT357ZYW"
      },
      "source": [
        "## Check length of male names and female names"
      ]
    },
    {
      "cell_type": "code",
      "metadata": {
        "colab": {
          "base_uri": "https://localhost:8080/"
        },
        "id": "UfdUUrB2uXsI",
        "outputId": "2f64f4a6-4a13-4a81-8ad6-eed64bf36e26"
      },
      "source": [
        "print ('Length of male names:',len( male_names)) \n",
        "print ('Length of female names:',len( female_names))"
      ],
      "execution_count": 50,
      "outputs": [
        {
          "output_type": "stream",
          "name": "stdout",
          "text": [
            "Length of male names: 2943\n",
            "Length of female names: 5001\n"
          ]
        }
      ]
    },
    {
      "cell_type": "markdown",
      "metadata": {
        "id": "GPZ4cYsm7fVf"
      },
      "source": [
        "## Print first 10 male and female names"
      ]
    },
    {
      "cell_type": "code",
      "metadata": {
        "colab": {
          "base_uri": "https://localhost:8080/"
        },
        "id": "fNGRo6LguZ78",
        "outputId": "dd4c305e-a86a-49fc-a6a1-53850bfbc4fa"
      },
      "source": [
        "print (male_names[0:10])\n",
        "print (female_names[0:10]) "
      ],
      "execution_count": 51,
      "outputs": [
        {
          "output_type": "stream",
          "name": "stdout",
          "text": [
            "['Aamir', 'Aaron', 'Abbey', 'Abbie', 'Abbot', 'Abbott', 'Abby', 'Abdel', 'Abdul', 'Abdulkarim']\n",
            "['Abagael', 'Abagail', 'Abbe', 'Abbey', 'Abbi', 'Abbie', 'Abby', 'Abigael', 'Abigail', 'Abigale']\n"
          ]
        }
      ]
    },
    {
      "cell_type": "markdown",
      "metadata": {
        "id": "I-Ko0c-M7lzN"
      },
      "source": [
        "## Feature Extraction\n",
        "\n",
        "> We will train the model by performing last word extraction for which a function will be defined"
      ]
    },
    {
      "cell_type": "code",
      "metadata": {
        "colab": {
          "base_uri": "https://localhost:8080/"
        },
        "id": "eF1GQsSNucbS",
        "outputId": "fc481ee7-23db-4d36-e783-502aa5285a1b"
      },
      "source": [
        "def gender_features(word):\n",
        "    return {'last_letter' : word[-1]}\n",
        " \n",
        "print (gender_features('Salman')) "
      ],
      "execution_count": 52,
      "outputs": [
        {
          "output_type": "stream",
          "name": "stdout",
          "text": [
            "{'last_letter': 'n'}\n"
          ]
        }
      ]
    },
    {
      "cell_type": "markdown",
      "metadata": {
        "id": "x82nvUp073BC"
      },
      "source": [
        "## Combining male and female arrays and doing random shuffling"
      ]
    },
    {
      "cell_type": "code",
      "metadata": {
        "colab": {
          "base_uri": "https://localhost:8080/"
        },
        "id": "rEak2RtWuhcI",
        "outputId": "86981155-b3c9-473e-8fe2-2d98ea92990c"
      },
      "source": [
        "labeled_male_names = [(str(name), 'male') for name in male_names]\n",
        " \n",
        "# printing first 10 labeled male names\n",
        "print (labeled_male_names[:10])"
      ],
      "execution_count": 53,
      "outputs": [
        {
          "output_type": "stream",
          "name": "stdout",
          "text": [
            "[('Aamir', 'male'), ('Aaron', 'male'), ('Abbey', 'male'), ('Abbie', 'male'), ('Abbot', 'male'), ('Abbott', 'male'), ('Abby', 'male'), ('Abdel', 'male'), ('Abdul', 'male'), ('Abdulkarim', 'male')]\n"
          ]
        }
      ]
    },
    {
      "cell_type": "code",
      "metadata": {
        "colab": {
          "base_uri": "https://localhost:8080/"
        },
        "id": "ThliBidpunj-",
        "outputId": "248a2f66-638c-4d94-f898-c8a402a30914"
      },
      "source": [
        "labeled_female_names = [(str(name), 'female') for name in female_names]\n",
        " \n",
        "# printing first 10 labeled female names\n",
        "print (labeled_female_names[:10])"
      ],
      "execution_count": 54,
      "outputs": [
        {
          "output_type": "stream",
          "name": "stdout",
          "text": [
            "[('Abagael', 'female'), ('Abagail', 'female'), ('Abbe', 'female'), ('Abbey', 'female'), ('Abbi', 'female'), ('Abbie', 'female'), ('Abby', 'female'), ('Abigael', 'female'), ('Abigail', 'female'), ('Abigale', 'female')]\n"
          ]
        }
      ]
    },
    {
      "cell_type": "code",
      "metadata": {
        "id": "YN8OVR_fuqMd"
      },
      "source": [
        "labeled_all_names = labeled_male_names + labeled_female_names"
      ],
      "execution_count": 55,
      "outputs": []
    },
    {
      "cell_type": "code",
      "metadata": {
        "colab": {
          "base_uri": "https://localhost:8080/"
        },
        "id": "zCVhRvjGusSV",
        "outputId": "e604c10d-7696-4b16-d0d8-5d4916c12b87"
      },
      "source": [
        "random.shuffle(labeled_all_names)\n",
        "print (labeled_all_names[:10])"
      ],
      "execution_count": 56,
      "outputs": [
        {
          "output_type": "stream",
          "name": "stdout",
          "text": [
            "[('Mandie', 'female'), ('Magnum', 'male'), ('Philly', 'female'), ('Jimmy', 'male'), ('Jaquith', 'female'), ('Addis', 'female'), ('Ethan', 'male'), ('Carrol', 'female'), ('Ewart', 'male'), ('Russ', 'male')]\n"
          ]
        }
      ]
    },
    {
      "cell_type": "markdown",
      "metadata": {
        "id": "DjToq1cY8AX9"
      },
      "source": [
        "## Extracting last word as feature from the concated file of male and female names"
      ]
    },
    {
      "cell_type": "code",
      "metadata": {
        "colab": {
          "base_uri": "https://localhost:8080/"
        },
        "id": "-Av3kKA3uvda",
        "outputId": "3062474c-5672-4d43-cbe8-521ad184d1dd"
      },
      "source": [
        "feature_set = [(gender_features(name), gender) for (name, gender) in labeled_all_names]\n",
        " \n",
        "print (feature_set[:10])"
      ],
      "execution_count": 57,
      "outputs": [
        {
          "output_type": "stream",
          "name": "stdout",
          "text": [
            "[({'last_letter': 'e'}, 'female'), ({'last_letter': 'm'}, 'male'), ({'last_letter': 'y'}, 'female'), ({'last_letter': 'y'}, 'male'), ({'last_letter': 'h'}, 'female'), ({'last_letter': 's'}, 'female'), ({'last_letter': 'n'}, 'male'), ({'last_letter': 'l'}, 'female'), ({'last_letter': 't'}, 'male'), ({'last_letter': 's'}, 'male')]\n"
          ]
        }
      ]
    },
    {
      "cell_type": "markdown",
      "metadata": {
        "id": "vh3XXXPR8HZB"
      },
      "source": [
        "# Split frst 1500 names in test set and remaining in training set - 80/20 split"
      ]
    },
    {
      "cell_type": "code",
      "metadata": {
        "colab": {
          "base_uri": "https://localhost:8080/"
        },
        "id": "-U4chjM_uyG7",
        "outputId": "54441a52-5bcd-4003-ad90-d54018449b1c"
      },
      "source": [
        "print ('Length of feature set:',len(feature_set)) \n",
        " \n",
        "test_set = feature_set[:1500]\n",
        "train_set = feature_set[1500:]\n",
        " \n",
        "print ('Length of training set:', len(train_set)) \n",
        "print ('Length of test set:', len(test_set)) "
      ],
      "execution_count": 58,
      "outputs": [
        {
          "output_type": "stream",
          "name": "stdout",
          "text": [
            "Length of feature set: 7944\n",
            "Length of training set: 6444\n",
            "Length of test set: 1500\n"
          ]
        }
      ]
    },
    {
      "cell_type": "markdown",
      "metadata": {
        "id": "JurlQhxv8TLj"
      },
      "source": [
        "## Train the Classifier"
      ]
    },
    {
      "cell_type": "code",
      "metadata": {
        "id": "BPd7Qv-yu27g"
      },
      "source": [
        "classifier = NaiveBayesClassifier.train(train_set)"
      ],
      "execution_count": 59,
      "outputs": []
    },
    {
      "cell_type": "markdown",
      "metadata": {
        "id": "IbLbPXmA8W16"
      },
      "source": [
        "## Test the trained data"
      ]
    },
    {
      "cell_type": "code",
      "metadata": {
        "colab": {
          "base_uri": "https://localhost:8080/"
        },
        "id": "ol98e-ndu5TD",
        "outputId": "9a2834bb-8caa-4923-aaf0-e1ec78769d09"
      },
      "source": [
        "print (classifier.classify(gender_features('John'))) \n",
        " \n",
        "print (classifier.classify(gender_features('Mary'))) "
      ],
      "execution_count": 60,
      "outputs": [
        {
          "output_type": "stream",
          "name": "stdout",
          "text": [
            "male\n",
            "female\n"
          ]
        }
      ]
    },
    {
      "cell_type": "markdown",
      "metadata": {
        "id": "ggnNJT1p8aYq"
      },
      "source": [
        "## Accuracy"
      ]
    },
    {
      "cell_type": "code",
      "metadata": {
        "colab": {
          "base_uri": "https://localhost:8080/"
        },
        "id": "3fh0sNTSu7UE",
        "outputId": "514844e1-6ba3-46ac-b078-73ab1b4f5efa"
      },
      "source": [
        "accuracy = classify.accuracy(classifier, test_set)\n",
        " \n",
        "print ('Accuracy of test set is:', accuracy) # Output: 0.76"
      ],
      "execution_count": 61,
      "outputs": [
        {
          "output_type": "stream",
          "name": "stdout",
          "text": [
            "Accuracy of test set is: 0.756\n"
          ]
        }
      ]
    },
    {
      "cell_type": "code",
      "metadata": {
        "colab": {
          "base_uri": "https://localhost:8080/"
        },
        "id": "eqMqQc36u9xQ",
        "outputId": "de98d870-ea8b-4d82-8ee3-a71b5a663004"
      },
      "source": [
        "print (classifier.classify(gender_features('Jack'))) \n",
        "print (classifier.classify(gender_features('Eliza')))"
      ],
      "execution_count": 62,
      "outputs": [
        {
          "output_type": "stream",
          "name": "stdout",
          "text": [
            "male\n",
            "female\n"
          ]
        }
      ]
    },
    {
      "cell_type": "markdown",
      "metadata": {
        "id": "3gcb1vL-8gld"
      },
      "source": [
        "# 3. Text mining (Regression) of Hotel Reviews"
      ]
    },
    {
      "cell_type": "markdown",
      "metadata": {
        "id": "jL-wu6F99b4G"
      },
      "source": [
        "This will involve prediction of hotel reviews using linear regression"
      ]
    },
    {
      "cell_type": "code",
      "metadata": {
        "id": "yW-ctAjwvTl-"
      },
      "source": [
        "#import libraries\n",
        "from nltk.stem import LancasterStemmer\n",
        "from sklearn.feature_extraction.text import CountVectorizer\n",
        "# CountVectorizer is a technique for converting words into vector, since linear regression can understand numbers and not text\n",
        "from sklearn.linear_model import LinearRegression\n",
        "import pandas as pd"
      ],
      "execution_count": 63,
      "outputs": []
    },
    {
      "cell_type": "code",
      "metadata": {
        "id": "Q4dgyAyn9wu-"
      },
      "source": [
        "scores = [5, 2, 5, 1, 1, 1]\n",
        "reviews = [\"I loved our hotel\", \"Staff was not awesome\", \"Awesome staff and loved the hotel\",\n",
        "           \"I hated our hotel\", \"Staff was rude\", \"Rude staff and hated the hotel\"]"
      ],
      "execution_count": 64,
      "outputs": []
    },
    {
      "cell_type": "markdown",
      "metadata": {
        "id": "JV0igwpS94KG"
      },
      "source": [
        "##Preparation of data\n",
        "The challenge is to convert text into numbers for model to understand, the process will involve two steps as follows:\n",
        "1. Stemming and Lemmatization - After tokenization, chopping of words into root words is significant through stemming or lemmatization\n",
        "2. Vectorization - conversion of words into numbers based on count/frequency of words (BoW, Tf-Idf)"
      ]
    },
    {
      "cell_type": "code",
      "metadata": {
        "colab": {
          "base_uri": "https://localhost:8080/"
        },
        "id": "C-S9eN1r91Dw",
        "outputId": "a660d434-b0ff-4d17-9280-4055114ad4cc"
      },
      "source": [
        "#LancasterStemmer to bring words back to their base form\n",
        "my_stemmer = LancasterStemmer()\n",
        "stemmed = [[my_stemmer.stem(word) for word in review.split()] for review in reviews ]\n",
        "stemmed"
      ],
      "execution_count": 65,
      "outputs": [
        {
          "output_type": "execute_result",
          "data": {
            "text/plain": [
              "[['i', 'lov', 'our', 'hotel'],\n",
              " ['staff', 'was', 'not', 'awesom'],\n",
              " ['awesom', 'staff', 'and', 'lov', 'the', 'hotel'],\n",
              " ['i', 'hat', 'our', 'hotel'],\n",
              " ['staff', 'was', 'rud'],\n",
              " ['rud', 'staff', 'and', 'hat', 'the', 'hotel']]"
            ]
          },
          "metadata": {},
          "execution_count": 65
        }
      ]
    },
    {
      "cell_type": "markdown",
      "metadata": {
        "id": "DY5tAqAt-cqr"
      },
      "source": [
        "## Join the above stemmed words into sentences"
      ]
    },
    {
      "cell_type": "code",
      "metadata": {
        "colab": {
          "base_uri": "https://localhost:8080/"
        },
        "id": "CEsuDgpZ-Z8t",
        "outputId": "ecfb0c24-2aad-4734-90ac-685951899a89"
      },
      "source": [
        "stemmed_concat = [' '.join(review) for review in stemmed]\n",
        "stemmed_concat"
      ],
      "execution_count": 66,
      "outputs": [
        {
          "output_type": "execute_result",
          "data": {
            "text/plain": [
              "['i lov our hotel',\n",
              " 'staff was not awesom',\n",
              " 'awesom staff and lov the hotel',\n",
              " 'i hat our hotel',\n",
              " 'staff was rud',\n",
              " 'rud staff and hat the hotel']"
            ]
          },
          "metadata": {},
          "execution_count": 66
        }
      ]
    },
    {
      "cell_type": "markdown",
      "metadata": {
        "id": "ENr2Jczr-jNj"
      },
      "source": [
        "## Vectorization - Using CountVector (BoW)"
      ]
    },
    {
      "cell_type": "code",
      "metadata": {
        "colab": {
          "base_uri": "https://localhost:8080/"
        },
        "id": "U6whsRm_-g9b",
        "outputId": "0a9e3db7-be14-45ed-c619-0116eb58522b"
      },
      "source": [
        "my_bow = CountVectorizer()\n",
        "bow = my_bow.fit_transform(stemmed_concat)\n",
        "print(bow.todense())"
      ],
      "execution_count": 67,
      "outputs": [
        {
          "output_type": "stream",
          "name": "stdout",
          "text": [
            "[[0 0 0 1 1 0 1 0 0 0 0]\n",
            " [0 1 0 0 0 1 0 0 1 0 1]\n",
            " [1 1 0 1 1 0 0 0 1 1 0]\n",
            " [0 0 1 1 0 0 1 0 0 0 0]\n",
            " [0 0 0 0 0 0 0 1 1 0 1]\n",
            " [1 0 1 1 0 0 0 1 1 1 0]]\n"
          ]
        }
      ]
    },
    {
      "cell_type": "markdown",
      "metadata": {
        "id": "dqg4kW_C-ruQ"
      },
      "source": [
        "## Fit the Regression Model and Predict"
      ]
    },
    {
      "cell_type": "code",
      "metadata": {
        "id": "h61xNEkB-pEh"
      },
      "source": [
        "linreg = LinearRegression()\n",
        "linreg.fit(bow, scores)\n",
        "predicted = linreg.predict(bow)"
      ],
      "execution_count": 68,
      "outputs": []
    },
    {
      "cell_type": "markdown",
      "metadata": {
        "id": "8YqTifjD-3Yd"
      },
      "source": [
        "## Show the output and preicted output"
      ]
    },
    {
      "cell_type": "code",
      "metadata": {
        "colab": {
          "base_uri": "https://localhost:8080/",
          "height": 235
        },
        "id": "EYLyPbNw-wGx",
        "outputId": "ea947513-c0ca-4c02-f969-4ab8b4913e8c"
      },
      "source": [
        "pd.DataFrame({'review': reviews, 'original score': scores, 'predicted scores': predicted})"
      ],
      "execution_count": 69,
      "outputs": [
        {
          "output_type": "execute_result",
          "data": {
            "text/html": [
              "<div>\n",
              "<style scoped>\n",
              "    .dataframe tbody tr th:only-of-type {\n",
              "        vertical-align: middle;\n",
              "    }\n",
              "\n",
              "    .dataframe tbody tr th {\n",
              "        vertical-align: top;\n",
              "    }\n",
              "\n",
              "    .dataframe thead th {\n",
              "        text-align: right;\n",
              "    }\n",
              "</style>\n",
              "<table border=\"1\" class=\"dataframe\">\n",
              "  <thead>\n",
              "    <tr style=\"text-align: right;\">\n",
              "      <th></th>\n",
              "      <th>review</th>\n",
              "      <th>original score</th>\n",
              "      <th>predicted scores</th>\n",
              "    </tr>\n",
              "  </thead>\n",
              "  <tbody>\n",
              "    <tr>\n",
              "      <th>0</th>\n",
              "      <td>I loved our hotel</td>\n",
              "      <td>5</td>\n",
              "      <td>5.0</td>\n",
              "    </tr>\n",
              "    <tr>\n",
              "      <th>1</th>\n",
              "      <td>Staff was not awesome</td>\n",
              "      <td>2</td>\n",
              "      <td>2.0</td>\n",
              "    </tr>\n",
              "    <tr>\n",
              "      <th>2</th>\n",
              "      <td>Awesome staff and loved the hotel</td>\n",
              "      <td>5</td>\n",
              "      <td>5.0</td>\n",
              "    </tr>\n",
              "    <tr>\n",
              "      <th>3</th>\n",
              "      <td>I hated our hotel</td>\n",
              "      <td>1</td>\n",
              "      <td>1.0</td>\n",
              "    </tr>\n",
              "    <tr>\n",
              "      <th>4</th>\n",
              "      <td>Staff was rude</td>\n",
              "      <td>1</td>\n",
              "      <td>1.0</td>\n",
              "    </tr>\n",
              "    <tr>\n",
              "      <th>5</th>\n",
              "      <td>Rude staff and hated the hotel</td>\n",
              "      <td>1</td>\n",
              "      <td>1.0</td>\n",
              "    </tr>\n",
              "  </tbody>\n",
              "</table>\n",
              "</div>"
            ],
            "text/plain": [
              "                              review  original score  predicted scores\n",
              "0                  I loved our hotel               5               5.0\n",
              "1              Staff was not awesome               2               2.0\n",
              "2  Awesome staff and loved the hotel               5               5.0\n",
              "3                  I hated our hotel               1               1.0\n",
              "4                     Staff was rude               1               1.0\n",
              "5     Rude staff and hated the hotel               1               1.0"
            ]
          },
          "metadata": {},
          "execution_count": 69
        }
      ]
    },
    {
      "cell_type": "code",
      "metadata": {
        "id": "prW0wnD5--l4"
      },
      "source": [
        ""
      ],
      "execution_count": 69,
      "outputs": []
    }
  ]
}